{
 "cells": [
  {
   "cell_type": "markdown",
   "metadata": {},
   "source": [
    "---\n",
    "comments: true\n",
    "layout: post\n",
    "title: Java Hello\n",
    "type: hacks\n",
    "courses: { csp: {week: 2} }\n",
    "---\n",
    "> ## Java Hello\n",
    ">> I was able to install Java Kernel and learn about the anatomy of the class"
   ]
  },
  {
   "cell_type": "code",
   "execution_count": 2,
   "metadata": {},
   "outputs": [
    {
     "name": "stdout",
     "output_type": "stream",
     "text": [
      "Hello, my name is Alice and I am 20 years old.\n",
      "Hello, my name is Bobert and I am 20 years old.\n"
     ]
    },
    {
     "name": "stdout",
     "output_type": "stream",
     "text": [
      "Hello, my teacher's name is Mr. Bortenson and they are in classroom A999.\n"
     ]
    }
   ],
   "source": [
    "public class Student { //Class, where the code is run (a template for creating objects structure and behavior of objects)\n",
    "    public static void main(String[] args) { //Main method, where the code is executed and calls other functions\n",
    "        Student student1 = new Student(\"Alice\", 20); //Create object using Student constructor\n",
    "\n",
    "        student1.introduce();\n",
    "        student1.changeName(\"Bobert\");\n",
    "        student1.introduce();\n",
    "    }\n",
    "\n",
    "    public String name; //instance variables\n",
    "    public int age;\n",
    "\n",
    "    public Student(String name, int age) //Student constructor with 2 parameters\n",
    "    {\n",
    "        this.name = name;\n",
    "        this.age = age;\n",
    "    }\n",
    "\n",
    "    public void changeName(String newName) //Setter that changes the name of the student\n",
    "    {\n",
    "        this.name = newName;\n",
    "    }\n",
    "\n",
    "    public void introduce() { //Function/Method that prints the name and age of the person\n",
    "        System.out.println(\"Hello, my name is \" + getName() + \" and I am \" + getAge() + \" years old.\");\n",
    "    }\n",
    "\n",
    "    public String getName() {//Getter for name\n",
    "        return name;\n",
    "    }\n",
    "\n",
    "    // Getter for age\n",
    "    public int getAge() {\n",
    "        return age;\n",
    "    }\n",
    "}\n",
    "public class Teacher {\n",
    "    public static void main(String[] args) {\n",
    "        Teacher teacher1 = new Teacher(\"Mr. Bortenson\", \"A999\");\n",
    "        teacher1.introduceTeacher();\n",
    "    }\n",
    "\n",
    "    public String teachername;\n",
    "    public String classroom;\n",
    "\n",
    "    // Constructor for the Teacher class\n",
    "    public Teacher(String name, String classroom)  //Teacher constructor with 2 parameters\n",
    "    { \n",
    "        this.teachername = name;\n",
    "        this.classroom = classroom;\n",
    "    }\n",
    "\n",
    "    public void introduceTeacher() {\n",
    "        System.out.println(\"Hello, my teacher's name is \" + teachername + \" and they are in classroom \" + classroom + \".\");\n",
    "    }\n",
    "}\n",
    "Student.main(null);\n",
    "Teacher.main(null);\n",
    "\n"
   ]
  },
  {
   "cell_type": "markdown",
   "metadata": {},
   "source": [
    "\n",
    "\n",
    "> ## Explaining Static vs Dynamic\n",
    "\n",
    "You cannot create objects of a static class, which differs from a dynamic one.\n",
    "\n",
    "The following code demonstrates a series of static classes."
   ]
  },
  {
   "cell_type": "markdown",
   "metadata": {},
   "source": [
    "> ## Date functions using static"
   ]
  },
  {
   "cell_type": "code",
   "execution_count": 3,
   "metadata": {},
   "outputs": [
    {
     "name": "stdout",
     "output_type": "stream",
     "text": [
      "16\n",
      "2006-09-08\n",
      "P16Y11M24D\n"
     ]
    }
   ],
   "source": [
    "import java.util.*;\n",
    "import java.time.*;\n",
    "\n",
    "\n",
    "public class DateUtils {\n",
    "    // Calculate age since a given date\n",
    "    public static void calculateAge(LocalDate birthDate, LocalDate currentDate) {        \n",
    "        System.out.println(Period.between(birthDate, currentDate).getYears());\n",
    "}\n",
    "\n",
    "    // Calculate the older of two dates\n",
    "    public static void findOlderDate(LocalDate date1, LocalDate date2) {\n",
    "        if (date1.isBefore(date2)) {\n",
    "            System.out.println(date1);\n",
    "        }\n",
    "        else\n",
    "        {\n",
    "            System.out.println(date2);\n",
    "        }\n",
    "    }\n",
    "\n",
    "    // Calculate the number of time since a given date\n",
    "    public static void calculateSecondsSince(LocalDate startDate) {\n",
    "        LocalDate now = LocalDate.now();\n",
    "        Period period = Period.between(startDate, now);\n",
    "        System.out.println(period);\n",
    "    }\n",
    "    public static void main(String[] args) \n",
    "    {\n",
    "        LocalDate birthDate = LocalDate.parse(\"2006-09-08\");\n",
    "        LocalDate currentDate = LocalDate.now();\n",
    "        calculateAge(birthDate, currentDate);\n",
    "\n",
    "        LocalDate date1 = LocalDate.parse(\"2006-09-08\");\n",
    "        LocalDate date2 = LocalDate.parse(\"2006-09-09\");\n",
    "        findOlderDate(date1, date2);\n",
    "\n",
    "        LocalDate startDate = LocalDate.parse(\"2006-09-08\");\n",
    "        calculateSecondsSince(startDate);\n",
    "    }\n",
    "}\n",
    "DateUtils.main(null);"
   ]
  },
  {
   "cell_type": "markdown",
   "metadata": {},
   "source": [
    "> ## Statistic functions using static"
   ]
  },
  {
   "cell_type": "code",
   "execution_count": 4,
   "metadata": {},
   "outputs": [
    {
     "name": "stdout",
     "output_type": "stream",
     "text": [
      "35\n",
      "32\n"
     ]
    }
   ],
   "source": [
    "import java.util.Arrays;\n",
    "\n",
    "public class StatsUtils {\n",
    "    // Calculate the mean\n",
    "    public static void calculateMean(int[] values) {\n",
    "        int sum = 0;\n",
    "        for (int i= 0; i < values.length; i++) {\n",
    "            sum += values[i];\n",
    "        }\n",
    "        System.out.println(sum / values.length);\n",
    "    }\n",
    "\n",
    "    // Calculate the median\n",
    "    public static void calculateMedian(int[] values) {\n",
    "        Arrays.sort(values);\n",
    "        int middle = values.length / 2;\n",
    "        System.out.println(values[middle]);\n",
    "    }\n",
    "\n",
    "    // Calculate the mode\n",
    "    // public static int calculateMode(int[] values) {\n",
    "    //     Map<Integer, Integer> valueFrequency = new HashMap<>();\n",
    "    //     int mode = -1;\n",
    "    //     int maxFrequency = 0;\n",
    "\n",
    "    //     for (int i = 0; i < values.length; i++) {\n",
    "    //         int frequency = valueFrequency.getOrDefault(value, 0) + 1;\n",
    "    //         valueFrequency.put(value, frequency);\n",
    "\n",
    "    //         if (frequency > maxFrequency) {\n",
    "    //             mode = value;\n",
    "    //             maxFrequency = frequency;\n",
    "    //         }\n",
    "    //     }\n",
    "\n",
    "    //     System.out.println(mode);\n",
    "    // }\n",
    "\n",
    "    public static void main(String[] args) {\n",
    "        int[] values = {42, 18, 7, 56, 91, 32, 5, 67, 23, 10};\n",
    "\n",
    "        calculateMean(values);\n",
    "        calculateMedian(values);\n",
    "        // calculateMode(values);\n",
    "    }\n",
    "}\n",
    "StatsUtils.main(null);"
   ]
  },
  {
   "cell_type": "markdown",
   "metadata": {},
   "source": [
    "<img src=\"https://github.com/raymondYsheng/CSA_Repo/assets/142441804/d9c33039-1e6e-439e-acf6-13f45651ac3a\">"
   ]
  }
 ],
 "metadata": {
  "kernelspec": {
   "display_name": "Java",
   "language": "java",
   "name": "java"
  },
  "language_info": {
   "codemirror_mode": "java",
   "file_extension": ".jshell",
   "mimetype": "text/x-java-source",
   "name": "java",
   "pygments_lexer": "java",
   "version": "18.0.2-ea+9-Ubuntu-222.04"
  }
 },
 "nbformat": 4,
 "nbformat_minor": 2
}
