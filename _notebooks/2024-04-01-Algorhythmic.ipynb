{
 "cells": [
  {
   "cell_type": "markdown",
   "metadata": {},
   "source": [
    "---\n",
    "toc: true\n",
    "comments: true\n",
    "title: Algorhythmic Prep\n",
    "courses: { csp: {week: 26} }\n",
    "type: hacks\n",
    "---"
   ]
  },
  {
   "cell_type": "markdown",
   "metadata": {},
   "source": [
    "## Selection Sort\n",
    "Selection sorts separates a list into 2 parts (a sorted and unsorted part). It takes the smallest value in the unsorted list and swaps it with the first element in the sorted portion. This continues until the sorted portion is completely sorted and the unsorted portion is empty."
   ]
  },
  {
   "cell_type": "code",
   "execution_count": null,
   "metadata": {
    "vscode": {
     "languageId": "java"
    }
   },
   "outputs": [],
   "source": [
    "public class SelectionSort {\n",
    "    \n",
    "    public static void selectionSort(int[] arr) {\n",
    "        int n = arr.length;\n",
    "        \n",
    "        for (int i = 0; i < n - 1; i++) {\n",
    "            int minIndex = i;\n",
    "            \n",
    "            for (int j = i + 1; j < n; j++) {\n",
    "                if (arr[j] < arr[minIndex]) {\n",
    "                    minIndex = j;\n",
    "                }\n",
    "            }\n",
    "            \n",
    "            int temp = arr[minIndex];\n",
    "            arr[minIndex] = arr[i];\n",
    "            arr[i] = temp;\n",
    "        }\n",
    "    }\n",
    "}"
   ]
  },
  {
   "cell_type": "markdown",
   "metadata": {},
   "source": [
    "## Insertion Sort\n",
    "Insertion sort is a simple comparison-based builds the final sorted array one element at a time. It iterates through the list, shifting each element to its correct position relative to the already sorted portion of the array."
   ]
  },
  {
   "cell_type": "code",
   "execution_count": null,
   "metadata": {
    "vscode": {
     "languageId": "java"
    }
   },
   "outputs": [],
   "source": [
    "public class InsertionSort {\n",
    "    \n",
    "    public static void insertionSort(int[] arr) {\n",
    "        int n = arr.length;\n",
    "        \n",
    "        for (int i = 1; i < n; i++) {\n",
    "            int key = arr[i];\n",
    "            int j = i - 1;\n",
    "            \n",
    "            while (j >= 0 && arr[j] > key) {\n",
    "                arr[j + 1] = arr[j];\n",
    "                j = j - 1;\n",
    "            }\n",
    "            \n",
    "            arr[j + 1] = key;\n",
    "        }\n",
    "    }\n",
    "}\n"
   ]
  },
  {
   "cell_type": "markdown",
   "metadata": {},
   "source": [
    "## Merge Sort\n",
    "Merge sort is a divide-and-conquer sorting algorithm that divides the input array into two halves, recursively sorts each half, and then merges the sorted halves to produce a single sorted array."
   ]
  },
  {
   "cell_type": "code",
   "execution_count": null,
   "metadata": {
    "vscode": {
     "languageId": "java"
    }
   },
   "outputs": [],
   "source": [
    "public class MergeSort {\n",
    "    \n",
    "    public static void mergeSort(int[] arr, int left, int right) {\n",
    "        if (left < right) {\n",
    "            int mid = (left + right) / 2;\n",
    "            \n",
    "            mergeSort(arr, left, mid);\n",
    "            mergeSort(arr, mid + 1, right);\n",
    "            \n",
    "            merge(arr, left, mid, right);\n",
    "        }\n",
    "    }\n",
    "\n",
    "    public static void merge(int[] arr, int left, int mid, int right) {\n",
    "        int n1 = mid - left + 1;\n",
    "        int n2 = right - mid;\n",
    "\n",
    "        int[] L = new int[n1];\n",
    "        int[] R = new int[n2];\n",
    "\n",
    "        for (int i = 0; i < n1; i++) {\n",
    "            L[i] = arr[left + i];\n",
    "        }\n",
    "        for (int j = 0; j < n2; j++) {\n",
    "            R[j] = arr[mid + 1 + j];\n",
    "        }\n",
    "\n",
    "        int i = 0, j = 0, k = left;\n",
    "        while (i < n1 && j < n2) {\n",
    "            if (L[i] <= R[j]) {\n",
    "                arr[k] = L[i];\n",
    "                i++;\n",
    "            } else {\n",
    "                arr[k] = R[j];\n",
    "                j++;\n",
    "            }\n",
    "            k++;\n",
    "        }\n",
    "\n",
    "        while (i < n1) {\n",
    "            arr[k] = L[i];\n",
    "            i++;\n",
    "            k++;\n",
    "        }\n",
    "\n",
    "        while (j < n2) {\n",
    "            arr[k] = R[j];\n",
    "            j++;\n",
    "            k++;\n",
    "        }\n",
    "    }\n",
    "}\n"
   ]
  },
  {
   "cell_type": "markdown",
   "metadata": {},
   "source": [
    "## Quick Sort\n",
    "Quick sort is a divide-and-conquer sorting algorithm that works by selecting a 'pivot' element from the array and partitioning the other elements into two sub-arrays, according to whether they are less than or greater than the pivot. The sub-arrays are then recursively sorted."
   ]
  },
  {
   "cell_type": "code",
   "execution_count": null,
   "metadata": {
    "vscode": {
     "languageId": "java"
    }
   },
   "outputs": [],
   "source": [
    "public class QuickSort {\n",
    "    \n",
    "    public static void quickSort(int[] arr, int low, int high) {\n",
    "        if (low < high) {\n",
    "            int pivotIndex = partition(arr, low, high);\n",
    "            \n",
    "            quickSort(arr, low, pivotIndex - 1);\n",
    "            quickSort(arr, pivotIndex + 1, high);\n",
    "        }\n",
    "    }\n",
    "\n",
    "    public static int partition(int[] arr, int low, int high) {\n",
    "        int pivot = arr[high];\n",
    "        int i = (low - 1);\n",
    "\n",
    "        for (int j = low; j < high; j++) {\n",
    "            if (arr[j] < pivot) {\n",
    "                i++;\n",
    "                int temp = arr[i];\n",
    "                arr[i] = arr[j];\n",
    "                arr[j] = temp;\n",
    "            }\n",
    "        }\n",
    "\n",
    "        int temp = arr[i + 1];\n",
    "        arr[i + 1] = arr[high];\n",
    "        arr[high] = temp;\n",
    "\n",
    "        return i + 1;\n",
    "    }\n",
    "}"
   ]
  },
  {
   "cell_type": "markdown",
   "metadata": {},
   "source": [
    "## Bubble Sort\n",
    "Bubble sort is a simple comparison-based sorting algorithm that repeatedly steps through the list, compares adjacent elements, and swaps them if they are in the wrong order. The process is repeated for each pair of adjacent elements until the entire list is sorted."
   ]
  },
  {
   "cell_type": "code",
   "execution_count": null,
   "metadata": {
    "vscode": {
     "languageId": "java"
    }
   },
   "outputs": [],
   "source": [
    "public class BubbleSort {\n",
    "    \n",
    "    public static void bubbleSort(int[] arr) {\n",
    "        int n = arr.length;\n",
    "        boolean swapped;\n",
    "\n",
    "        for (int i = 0; i < n - 1; i++) {\n",
    "            swapped = false;\n",
    "            \n",
    "            for (int j = 0; j < n - i - 1; j++) {\n",
    "                if (arr[j] > arr[j + 1]) {\n",
    "                    int temp = arr[j];\n",
    "                    arr[j] = arr[j + 1];\n",
    "                    arr[j + 1] = temp;\n",
    "                    swapped = true;\n",
    "                }\n",
    "            }\n",
    "\n",
    "            if (!swapped) {\n",
    "                break;\n",
    "            }\n",
    "        }\n",
    "    }\n",
    "}\n"
   ]
  },
  {
   "cell_type": "code",
   "execution_count": 6,
   "metadata": {
    "vscode": {
     "languageId": "java"
    }
   },
   "outputs": [
    {
     "ename": "UnresolvedReferenceException",
     "evalue": "Attempt to use definition snippet with unresolved references in Snippet:ClassKey(SortingTest)#18-public class SortingTest {\n\n    public static void main(String[] args) {\n        int[] arr = {7, 2, 4, 1, 5};\n        \n        System.out.println(\"Original array:\");\n        printArray(arr);\n\n        // Selection Sort\n        int[] arrSelectionSort = arr.clone();\n        System.out.println(\"\\nSelection Sort:\");\n        SelectionSort.selectionSort(arrSelectionSort);\n        printArray(arrSelectionSort);\n\n        // Insertion Sort\n        int[] arrInsertionSort = arr.clone();\n        System.out.println(\"\\nInsertion Sort:\");\n        InsertionSort.insertionSort(arrInsertionSort);\n        printArray(arrInsertionSort);\n\n        // Merge Sort\n        int[] arrMergeSort = arr.clone();\n        System.out.println(\"\\nMerge Sort:\");\n        MergeSort.mergeSort(arrMergeSort, 0, arrMergeSort.length - 1);\n        printArray(arrMergeSort);\n\n        // Quick Sort\n        int[] arrQuickSort = arr.clone();\n        System.out.println(\"\\nQuick Sort:\");\n        QuickSort.quickSort(arrQuickSort, 0, arrQuickSort.length - 1);\n        printArray(arrQuickSort);\n\n        // Bubble Sort\n        int[] arrBubbleSort = arr.clone();\n        System.out.println(\"\\nBubble Sort:\");\n        BubbleSort.bubbleSort(arrBubbleSort);\n        printArray(arrBubbleSort);\n    }\n\n    public static void printArray(int[] arr) {\n        for (int num : arr) {\n            System.out.print(num + \" \");\n        }\n        System.out.println();\n    }\n}",
     "output_type": "error",
     "traceback": [
      "\u001b[1m\u001b[30m|   \u001b[1m\u001b[30mpublic class SortingTest {\u001b[0m",
      "\u001b[1m\u001b[30m|   \u001b[1m\u001b[30m\u001b[0m",
      "\u001b[1m\u001b[30m|   \u001b[1m\u001b[30m    public static void main(String[] args) {\u001b[0m",
      "\u001b[1m\u001b[30m|   \u001b[1m\u001b[30m        int[] arr = {7, 2, 4, 1, 5};\u001b[0m",
      "\u001b[1m\u001b[30m|   \u001b[1m\u001b[30m        \u001b[0m",
      "\u001b[1m\u001b[30m|   \u001b[1m\u001b[30m        System.out.println(\"Original array:\");\u001b[0m",
      "\u001b[1m\u001b[30m|   \u001b[1m\u001b[30m        printArray(arr);\u001b[0m",
      "\u001b[1m\u001b[30m|   \u001b[1m\u001b[30m\u001b[0m",
      "\u001b[1m\u001b[30m|   \u001b[1m\u001b[30m        // Selection Sort\u001b[0m",
      "\u001b[1m\u001b[30m|   \u001b[1m\u001b[30m        int[] arrSelectionSort = arr.clone();\u001b[0m",
      "\u001b[1m\u001b[30m|   \u001b[1m\u001b[30m        System.out.println(\"\\nSelection Sort:\");\u001b[0m",
      "\u001b[1m\u001b[30m|   \u001b[1m\u001b[30m        SelectionSort.selectionSort(arrSelectionSort);\u001b[0m",
      "\u001b[1m\u001b[30m|   \u001b[1m\u001b[30m        printArray(arrSelectionSort);\u001b[0m",
      "\u001b[1m\u001b[30m|   \u001b[1m\u001b[30m\u001b[0m",
      "\u001b[1m\u001b[30m|   \u001b[1m\u001b[30m        // Insertion Sort\u001b[0m",
      "\u001b[1m\u001b[30m|   \u001b[1m\u001b[30m        int[] arrInsertionSort = arr.clone();\u001b[0m",
      "\u001b[1m\u001b[30m|   \u001b[1m\u001b[30m        System.out.println(\"\\nInsertion Sort:\");\u001b[0m",
      "\u001b[1m\u001b[30m|   \u001b[1m\u001b[30m        InsertionSort.insertionSort(arrInsertionSort);\u001b[0m",
      "\u001b[1m\u001b[30m|   \u001b[1m\u001b[30m        printArray(arrInsertionSort);\u001b[0m",
      "\u001b[1m\u001b[30m|   \u001b[1m\u001b[30m\u001b[0m",
      "\u001b[1m\u001b[30m|   \u001b[1m\u001b[30m        // Merge Sort\u001b[0m",
      "\u001b[1m\u001b[30m|   \u001b[1m\u001b[30m        int[] arrMergeSort = arr.clone();\u001b[0m",
      "\u001b[1m\u001b[30m|   \u001b[1m\u001b[30m        System.out.println(\"\\nMerge Sort:\");\u001b[0m",
      "\u001b[1m\u001b[30m|   \u001b[1m\u001b[30m        MergeSort.mergeSort(arrMergeSort, 0, arrMergeSort.length - 1);\u001b[0m",
      "\u001b[1m\u001b[30m|   \u001b[1m\u001b[30m        printArray(arrMergeSort);\u001b[0m",
      "\u001b[1m\u001b[30m|   \u001b[1m\u001b[30m\u001b[0m",
      "\u001b[1m\u001b[30m|   \u001b[1m\u001b[30m        // Quick Sort\u001b[0m",
      "\u001b[1m\u001b[30m|   \u001b[1m\u001b[30m        int[] arrQuickSort = arr.clone();\u001b[0m",
      "\u001b[1m\u001b[30m|   \u001b[1m\u001b[30m        System.out.println(\"\\nQuick Sort:\");\u001b[0m",
      "\u001b[1m\u001b[30m|   \u001b[1m\u001b[30m        QuickSort.quickSort(arrQuickSort, 0, arrQuickSort.length - 1);\u001b[0m",
      "\u001b[1m\u001b[30m|   \u001b[1m\u001b[30m        printArray(arrQuickSort);\u001b[0m",
      "\u001b[1m\u001b[30m|   \u001b[1m\u001b[30m\u001b[0m",
      "\u001b[1m\u001b[30m|   \u001b[1m\u001b[30m        // Bubble Sort\u001b[0m",
      "\u001b[1m\u001b[30m|   \u001b[1m\u001b[30m        int[] arrBubbleSort = arr.clone();\u001b[0m",
      "\u001b[1m\u001b[30m|   \u001b[1m\u001b[30m        System.out.println(\"\\nBubble Sort:\");\u001b[0m",
      "\u001b[1m\u001b[30m|   \u001b[1m\u001b[30m        BubbleSort.bubbleSort(arrBubbleSort);\u001b[0m",
      "\u001b[1m\u001b[30m|   \u001b[1m\u001b[30m        printArray(arrBubbleSort);\u001b[0m",
      "\u001b[1m\u001b[30m|   \u001b[1m\u001b[30m    }\u001b[0m",
      "\u001b[1m\u001b[30m|   \u001b[1m\u001b[30m\u001b[0m",
      "\u001b[1m\u001b[30m|   \u001b[1m\u001b[30m    public static void printArray(int[] arr) {\u001b[0m",
      "\u001b[1m\u001b[30m|   \u001b[1m\u001b[30m        for (int num : arr) {\u001b[0m",
      "\u001b[1m\u001b[30m|   \u001b[1m\u001b[30m            System.out.print(num + \" \");\u001b[0m",
      "\u001b[1m\u001b[30m|   \u001b[1m\u001b[30m        }\u001b[0m",
      "\u001b[1m\u001b[30m|   \u001b[1m\u001b[30m        System.out.println();\u001b[0m",
      "\u001b[1m\u001b[30m|   \u001b[1m\u001b[30m    }\u001b[0m",
      "\u001b[1m\u001b[30m|   \u001b[1m\u001b[30m}\u001b[0m",
      "\u001b[1m\u001b[31mUnresolved dependencies:\u001b[0m",
      "\u001b[1m\u001b[31m   - variable SelectionSort\u001b[0m",
      "\u001b[1m\u001b[31m   - variable InsertionSort\u001b[0m",
      "\u001b[1m\u001b[31m   - variable MergeSort\u001b[0m",
      "\u001b[1m\u001b[31m   - variable QuickSort\u001b[0m",
      "\u001b[1m\u001b[31m   - variable BubbleSort\u001b[0m"
     ]
    }
   ],
   "source": [
    "public class SortingTest {\n",
    "\n",
    "    public static void main(String[] args) {\n",
    "        int[] arr = {7, 2, 4, 1, 5};\n",
    "        \n",
    "        System.out.println(\"Original array:\");\n",
    "        printArray(arr);\n",
    "\n",
    "        // Selection Sort\n",
    "        int[] arrSelectionSort = arr.clone();\n",
    "        System.out.println(\"\\nSelection Sort:\");\n",
    "        SelectionSort.selectionSort(arrSelectionSort);\n",
    "        printArray(arrSelectionSort);\n",
    "\n",
    "        // Insertion Sort\n",
    "        int[] arrInsertionSort = arr.clone();\n",
    "        System.out.println(\"\\nInsertion Sort:\");\n",
    "        InsertionSort.insertionSort(arrInsertionSort);\n",
    "        printArray(arrInsertionSort);\n",
    "\n",
    "        // Merge Sort\n",
    "        int[] arrMergeSort = arr.clone();\n",
    "        System.out.println(\"\\nMerge Sort:\");\n",
    "        MergeSort.mergeSort(arrMergeSort, 0, arrMergeSort.length - 1);\n",
    "        printArray(arrMergeSort);\n",
    "\n",
    "        // Quick Sort\n",
    "        int[] arrQuickSort = arr.clone();\n",
    "        System.out.println(\"\\nQuick Sort:\");\n",
    "        QuickSort.quickSort(arrQuickSort, 0, arrQuickSort.length - 1);\n",
    "        printArray(arrQuickSort);\n",
    "\n",
    "        // Bubble Sort\n",
    "        int[] arrBubbleSort = arr.clone();\n",
    "        System.out.println(\"\\nBubble Sort:\");\n",
    "        BubbleSort.bubbleSort(arrBubbleSort);\n",
    "        printArray(arrBubbleSort);\n",
    "    }\n",
    "\n",
    "    public static void printArray(int[] arr) {\n",
    "        for (int num : arr) {\n",
    "            System.out.print(num + \" \");\n",
    "        }\n",
    "        System.out.println();\n",
    "    }\n",
    "}\n",
    "SortingTest.main(null);"
   ]
  },
  {
   "cell_type": "code",
   "execution_count": null,
   "metadata": {
    "vscode": {
     "languageId": "java"
    }
   },
   "outputs": [],
   "source": []
  }
 ],
 "metadata": {
  "kernelspec": {
   "display_name": "Java",
   "language": "java",
   "name": "java"
  },
  "language_info": {
   "codemirror_mode": "java",
   "file_extension": ".jshell",
   "mimetype": "text/x-java-source",
   "name": "Java",
   "pygments_lexer": "java",
   "version": "18.0.2-ea+9-Ubuntu-222.04"
  }
 },
 "nbformat": 4,
 "nbformat_minor": 2
}
