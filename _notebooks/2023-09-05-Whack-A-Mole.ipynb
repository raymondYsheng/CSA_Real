{
 "cells": [
  {
   "cell_type": "markdown",
   "metadata": {},
   "source": [
    "---\n",
    "comments: true\n",
    "layout: post\n",
    "title: Whack-a-Mole\n",
    "type: hacks\n",
    "courses: { csp: {week: 3} }\n",
    "description: Our partner project for pair showcase.\n",
    "---"
   ]
  },
  {
   "cell_type": "markdown",
   "metadata": {},
   "source": [
    "<body>\n",
    "    <h1>Whack-a-Mole Game</h1>\n",
    "    <p>Score: <span id=\"score\">0</span></p>\n",
    "    <div class=\"game-container\" id=\"game-container\">\n",
    "        <!-- Moles will be added here dynamically -->\n",
    "    </div>\n",
    "</body>"
   ]
  }
 ],
 "metadata": {
  "language_info": {
   "name": "python"
  },
  "orig_nbformat": 4
 },
 "nbformat": 4,
 "nbformat_minor": 2
}
