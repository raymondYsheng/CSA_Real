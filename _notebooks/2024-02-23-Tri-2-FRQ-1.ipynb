{
 "cells": [
  {
   "cell_type": "markdown",
   "metadata": {},
   "source": [
    "---\n",
    "title: Collegeboard FRQ Practice - Question 1\n",
    "toc: true\n",
    "comments: true\n",
    "layout: post\n",
    "courses: { csp: {week: 22} }\n",
    "type: hacks\n",
    "---"
   ]
  },
  {
   "cell_type": "markdown",
   "metadata": {},
   "source": [
    "### Question 1:\n",
    "(a) Write a static method arraySum that calculates and returns the sum of the entries in a specified one-dimensional array. The following example shows an array arr1 and the value returned by a call to arraySum.\n",
    "\n",
    "(b) Write a static method rowSums that calculates the sums of each of the rows in a given two-dimensional array and returns these sums in a one-dimensional array. The method has one parameter, a two-dimensional array arr2D of int values. The array is in row-major order: arr2D [r] [c] is the entry at row r and column c. The method returns a one-dimensional array with one entry for each row of arr2D such that each entry is the sum of the corresponding row in arr2D. As a reminder, each row of a two-dimensional array is a one-dimensional array.\n",
    "\n",
    "(c) A two-dimensional array is diverse if no two of its rows have entries that sum to the same value. In the following examples, the array mat1 is diverse because each row sum is different, but the array mat2 is not diverse because the first and last rows have the same sum.\n",
    "Write a static method isDiverse that determines whether or not a given two-dimensional array is diverse. The method has one parameter: a two-dimensional array arr2D of int values. The method should return true if all the row sums in the given array are unique; otherwise, it should return false. In the arrays shown above, the call isDiverse (mat1) returns true and the call isDiverse(mat2) returns false."
   ]
  },
  {
   "cell_type": "markdown",
   "metadata": {},
   "source": [
    "**Key Algorithm: 2D Arrays + Arrays**"
   ]
  },
  {
   "cell_type": "code",
   "execution_count": 3,
   "metadata": {},
   "outputs": [
    {
     "name": "stdout",
     "output_type": "stream",
     "text": [
      "16\n",
      "14 35 36 14 \n",
      "false\n"
     ]
    }
   ],
   "source": [
    "public class Main {\n",
    "    public static int arraySum (int[] arr) //Part A\n",
    "    {\n",
    "        int sum = 0;\n",
    "        for (int i = 0; i < arr.length; i++)\n",
    "        {\n",
    "            sum += arr[i];\n",
    "        }\n",
    "        return sum;\n",
    "    }\n",
    "\n",
    "    public static int[] rowSums(int[][] arr2D) { //Part B\n",
    "        int[] sums = new int[arr2D.length];\n",
    "        for (int i = 0; i < arr2D.length; i++) {\n",
    "            int sum = 0;\n",
    "            for (int j = 0; j < arr2D[i].length; j++) {\n",
    "                sum += arr2D[i][j];\n",
    "            }\n",
    "            sums[i] = sum;\n",
    "        }\n",
    "        return sums;\n",
    "    }\n",
    "    \n",
    "    \n",
    "    public static boolean isDiverse(int[][] arr2D) //Part C\n",
    "    {\n",
    "        int[] sums = rowSums(arr2D);\n",
    "        HashSet<Integer> set = new HashSet<>();\n",
    "        for (int num : sums) {\n",
    "            if (set.contains(num)) {\n",
    "                return false;\n",
    "            }\n",
    "            set.add(num);\n",
    "        }\n",
    "\n",
    "        return true;\n",
    "    }\n",
    "\n",
    "    public static void main(String[] args)\n",
    "    {\n",
    "        int[] arr2 = {1, 3, 2, 7, 3};\n",
    "        System.out.println(arraySum(arr2));\n",
    "        int[][] arr1 = {\n",
    "            {1, 1, 5, 3, 4},\n",
    "            {12, 7, 6, 1, 9},\n",
    "            {8, 11, 10, 2, 5},\n",
    "            {3, 2, 3, 0, 6}\n",
    "        };        \n",
    "        int[] sums = rowSums(arr1);\n",
    "        for (int i = 0; i < sums.length; i++)\n",
    "        {\n",
    "            System.out.print(sums[i] + \" \");\n",
    "        }\n",
    "        System.out.println();\n",
    "        System.out.println(isDiverse(arr1));\n",
    "    }\n",
    "}\n",
    "\n",
    "Main.main(null);"
   ]
  },
  {
   "cell_type": "markdown",
   "metadata": {},
   "source": []
  }
 ],
 "metadata": {
  "kernelspec": {
   "display_name": "Java",
   "language": "java",
   "name": "java"
  },
  "language_info": {
   "codemirror_mode": "java",
   "file_extension": ".jshell",
   "mimetype": "text/x-java-source",
   "name": "java",
   "pygments_lexer": "java",
   "version": "18.0.2-ea+9-Ubuntu-222.04"
  }
 },
 "nbformat": 4,
 "nbformat_minor": 2
}
