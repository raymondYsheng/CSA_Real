{
 "cells": [
  {
   "cell_type": "markdown",
   "metadata": {},
   "source": [
    "---\n",
    "comments: true\n",
    "title: Roles Lesson\n",
    "type: lesson\n",
    "toc: true\n",
    "courses: { csa: {week: 20} }\n",
    "authors: Raymond, Toby, Ishi, Aiden, Drew, AJ, Ekam\n",
    "---"
   ]
  },
  {
   "cell_type": "markdown",
   "metadata": {},
   "source": [
    "## Setting Up the Frontend\n",
    "\n",
    "```html\n",
    " <div class=\"container bg-secondary py-4\">\n",
    "        <div class=\"p-5 mb-4 bg-light text-dark rounded-3\">\n",
    "            <h1>Login</h1>\n",
    "            <label for=\"email\">Username:</label><br>\n",
    "            <input type=\"text\" id=\"username\" name=\"username\"><br>\n",
    "            <label for=\"password\">Password:</label><br>\n",
    "            <input type=\"text\" id=\"password\" name=\"password\"><br><br>\n",
    "            <input type=\"submit\" value=\"Login\" onclick=\"login()\">\n",
    "            <p id=\"message\"></p>\n",
    "        </div>\n",
    "    </div>\n",
    "    <script>\n",
    "        function login() {\n",
    "            var email = document.getElementById('username').value;\n",
    "            var password = document.getElementById('password').value;\n",
    "            var data = {email:email, password:password};\n",
    "            fetch(\"/authenticate\", {method: 'POST', headers: {'Content-Type': 'application/json'}, body: JSON.stringify(data)}).then((data) => {\n",
    "                if (data.status == 200) {\n",
    "                    window.location.replace(\"/mvc/person/read\");\n",
    "                } else {\n",
    "                    document.getElementById('message').innerHTML = \"Invalid email or password\"\n",
    "                }\n",
    "            });\n",
    "        }\n",
    "    </script>\n",
    "```\n",
    "\n",
    "The login page calls the authenticate endpoint, and allows the user to log in and generate the JWT cookie that can be used to authenticate whether the user has the right to perform certain operations on the system."
   ]
  },
  {
   "cell_type": "markdown",
   "metadata": {},
   "source": [
    "## Update\n",
    "```html\n",
    "<tr th:each=\"person : ${list}\">\n",
    "    <td th:text=\"${person.id}\">Person ID</td>\n",
    "    <td th:text=\"${person.email}\">Birth Date</td>\n",
    "    <td th:text=\"${person.name}\">Name</td>\n",
    "    <td th:if=\"${person.getAge() != -1}\" th:text=\"${person.getAge()}\">Age</td>\n",
    "    <td th:unless=\"${person.getAge() != -1}\" th:text=\"Unknown\">Unknown Age</td>\n",
    "    <td>\n",
    "        <!--- <a th:href=\"@{/mvc/notes/{id}(id = ${person.id})}\">Notes</a> -->\n",
    "        <a th:href=\"@{/mvc/person/update/{id}(id = ${person.id})}\">Update</a>\n",
    "        <a th:href=\"@{/mvc/person/delete/{id}(id = ${person.id})}\">Delete</a>\n",
    "    </td>\n",
    "</tr>\n",
    "```\n",
    "\n",
    "The thymeleaf here checks if, when the user presses on the `Update` or `Delete` tags, they have appropriate roles by calling the API. It gets the user ID for each user in the table and runs the restricted endpoints `/update` and `/delete`. If the user has the appropriate role (`ROLE_ADMIN`), then the user is allowed to continue the operation. Otherwise it throws the 403 error."
   ]
  },
  {
   "cell_type": "markdown",
   "metadata": {},
   "source": []
  }
 ],
 "metadata": {
  "language_info": {
   "name": "python"
  }
 },
 "nbformat": 4,
 "nbformat_minor": 2
}
