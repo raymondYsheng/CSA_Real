{
 "cells": [
  {
   "cell_type": "markdown",
   "metadata": {},
   "source": [
    "---\n",
    "layout: post\n",
    "title: 2015 Practice Exam Notes\n",
    "toc: true\n",
    "comments: true\n",
    "courses: { csp: {week: 19} }\n",
    "type: hacks\n",
    "---"
   ]
  },
  {
   "cell_type": "markdown",
   "metadata": {},
   "source": [
    "## Collegeboard Quiz Notes:\n",
    "- Using scratch paper or help thought process\n",
    "- Question 4: if all numbers are below 0, then the max would say 0 regardless\n",
    "- Question 6: rattrapsimil**art**oday would give true even though no single word has art\n",
    "- Question 9: Math.random gives a value from 0 to 1, therefore to be from 1 to 6 you need to add 1 to each random then multiply each by 6\n",
    "- Question 10: Athlete doesn't extend Student so it def doesn't work\n",
    "- Question 18: 404/10 = 40, 40 * 10 = 400, 400 + 1 = 401\n",
    "- Question 21: str.substring(index1, index2) is the string from index1 to index2-1 not to index2, therefore first line is WATC\n",
    "- **Question 24: same inputs of a function with the same name will throw an error**\n",
    "- Question 26: outside objects not changed by the method, they are just copies of the existing objects\n",
    "- Question 36: log base 2 of 2000 => ~11\n",
    "- Question 39: printing set of arraylist gives the original value of the element that was changed\n",
    "\n",
    "## Reflection:\n",
    "The use of scratch paper and a thoughtful process proved essential in tackling each problem methodically. Notably, the realization in Question 4 that if all numbers are below 0, the maximum would be 0, demonstrated the importance of considering edge cases. In Question 6, the insight that \"rattrapsimilartoday\" would evaluate to true, despite the absence of the standalone word \"art,\" underscored the need for careful interpretation of logical conditions. Understanding the intricacies of the Math.random function in Question 9, where adjusting the range from 0-1 to 1-6 required adding 1 and multiplying by 6, showcased the importance of a strong foundational understanding of programming concepts. Additionally, Question 24 highlighted the potential for errors when using the same inputs for a function with the same name. These notes collectively reflect the depth of knowledge required for success in the CSA exam, emphasizing the significance of clarity in logic, attention to detail, and a comprehensive understanding of programming principles."
   ]
  }
 ],
 "metadata": {
  "language_info": {
   "name": "python"
  }
 },
 "nbformat": 4,
 "nbformat_minor": 2
}
