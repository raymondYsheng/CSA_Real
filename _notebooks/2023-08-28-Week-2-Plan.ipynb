{
 "cells": [
  {
   "cell_type": "markdown",
   "metadata": {},
   "source": [
    "---\n",
    "comments: true\n",
    "layout: post\n",
    "title: Week 2 Plan\n",
    "courses: { csa: {week 2}}\n",
    "\n",
    "---\n",
    "# Week 2 Plan\n",
    "- Complete Java Hello and ensure complete, thorough explanations in the comments of the code.\n",
    "- Improve the Java console games by:\n",
    "    - Putting each game into a separate cell\n",
    "    - Simplify Tic Tac Toe using HashMaps\n",
    "    - Review College Board units"
   ]
  }
 ],
 "metadata": {
  "language_info": {
   "name": "python"
  },
  "orig_nbformat": 4
 },
 "nbformat": 4,
 "nbformat_minor": 2
}
