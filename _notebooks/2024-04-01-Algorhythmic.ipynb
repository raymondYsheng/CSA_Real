{
 "cells": [
  {
   "cell_type": "markdown",
   "metadata": {},
   "source": [
    "---\n",
    "toc: true\n",
    "comments: true\n",
    "title: Algorhythmic Prep\n",
    "courses: { csp: {week: 26} }\n",
    "type: hacks\n",
    "---"
   ]
  },
  {
   "cell_type": "markdown",
   "metadata": {},
   "source": [
    "## Selection Sort\n",
    "Selection sorts separates a list into 2 parts (a sorted and unsorted part). It takes the smallest value in the unsorted list and swaps it with the first element in the sorted portion. This continues until the sorted portion is completely sorted and the unsorted portion is empty."
   ]
  },
  {
   "cell_type": "code",
   "execution_count": 6,
   "metadata": {
    "vscode": {
     "languageId": "java"
    }
   },
   "outputs": [],
   "source": [
    "public class SelectionSort {\n",
    "    \n",
    "    public static void selectionSort(int[] arr) {\n",
    "        int n = arr.length;\n",
    "        \n",
    "        for (int i = 0; i < n - 1; i++) {\n",
    "            int minIndex = i;\n",
    "            \n",
    "            for (int j = i + 1; j < n; j++) {\n",
    "                if (arr[j] < arr[minIndex]) {\n",
    "                    minIndex = j;\n",
    "                }\n",
    "            }\n",
    "            \n",
    "            int temp = arr[minIndex];\n",
    "            arr[minIndex] = arr[i];\n",
    "            arr[i] = temp;\n",
    "        }\n",
    "    }\n",
    "}"
   ]
  },
  {
   "cell_type": "markdown",
   "metadata": {},
   "source": [
    "## Insertion Sort\n",
    "Insertion sort is a simple comparison-based builds the final sorted array one element at a time. It iterates through the list, shifting each element to its correct position relative to the already sorted portion of the array."
   ]
  },
  {
   "cell_type": "code",
   "execution_count": 5,
   "metadata": {
    "vscode": {
     "languageId": "java"
    }
   },
   "outputs": [],
   "source": [
    "public class InsertionSort {\n",
    "    \n",
    "    public static void insertionSort(int[] arr) {\n",
    "        int n = arr.length;\n",
    "        \n",
    "        for (int i = 1; i < n; i++) {\n",
    "            int key = arr[i];\n",
    "            int j = i - 1;\n",
    "            \n",
    "            while (j >= 0 && arr[j] > key) {\n",
    "                arr[j + 1] = arr[j];\n",
    "                j = j - 1;\n",
    "            }\n",
    "            \n",
    "            arr[j + 1] = key;\n",
    "        }\n",
    "    }\n",
    "}\n"
   ]
  },
  {
   "cell_type": "markdown",
   "metadata": {},
   "source": [
    "## Merge Sort\n",
    "Merge sort is a divide-and-conquer sorting algorithm that divides the input array into two halves, recursively sorts each half, and then merges the sorted halves to produce a single sorted array."
   ]
  },
  {
   "cell_type": "code",
   "execution_count": 4,
   "metadata": {
    "vscode": {
     "languageId": "java"
    }
   },
   "outputs": [],
   "source": [
    "public class MergeSort {\n",
    "    \n",
    "    public static void mergeSort(int[] arr, int left, int right) {\n",
    "        if (left < right) {\n",
    "            int mid = (left + right) / 2;\n",
    "            \n",
    "            mergeSort(arr, left, mid);\n",
    "            mergeSort(arr, mid + 1, right);\n",
    "            \n",
    "            merge(arr, left, mid, right);\n",
    "        }\n",
    "    }\n",
    "\n",
    "    public static void merge(int[] arr, int left, int mid, int right) {\n",
    "        int n1 = mid - left + 1;\n",
    "        int n2 = right - mid;\n",
    "\n",
    "        int[] L = new int[n1];\n",
    "        int[] R = new int[n2];\n",
    "\n",
    "        for (int i = 0; i < n1; i++) {\n",
    "            L[i] = arr[left + i];\n",
    "        }\n",
    "        for (int j = 0; j < n2; j++) {\n",
    "            R[j] = arr[mid + 1 + j];\n",
    "        }\n",
    "\n",
    "        int i = 0, j = 0, k = left;\n",
    "        while (i < n1 && j < n2) {\n",
    "            if (L[i] <= R[j]) {\n",
    "                arr[k] = L[i];\n",
    "                i++;\n",
    "            } else {\n",
    "                arr[k] = R[j];\n",
    "                j++;\n",
    "            }\n",
    "            k++;\n",
    "        }\n",
    "\n",
    "        while (i < n1) {\n",
    "            arr[k] = L[i];\n",
    "            i++;\n",
    "            k++;\n",
    "        }\n",
    "\n",
    "        while (j < n2) {\n",
    "            arr[k] = R[j];\n",
    "            j++;\n",
    "            k++;\n",
    "        }\n",
    "    }\n",
    "}\n"
   ]
  },
  {
   "cell_type": "markdown",
   "metadata": {},
   "source": [
    "## Quick Sort\n",
    "Quick sort is a divide-and-conquer sorting algorithm that works by selecting a 'pivot' element from the array and partitioning the other elements into two sub-arrays, according to whether they are less than or greater than the pivot. The sub-arrays are then recursively sorted."
   ]
  },
  {
   "cell_type": "code",
   "execution_count": 3,
   "metadata": {
    "vscode": {
     "languageId": "java"
    }
   },
   "outputs": [],
   "source": [
    "public class QuickSort {\n",
    "    \n",
    "    public static void quickSort(int[] arr, int low, int high) {\n",
    "        if (low < high) {\n",
    "            int pivotIndex = partition(arr, low, high);\n",
    "            \n",
    "            quickSort(arr, low, pivotIndex - 1);\n",
    "            quickSort(arr, pivotIndex + 1, high);\n",
    "        }\n",
    "    }\n",
    "\n",
    "    public static int partition(int[] arr, int low, int high) {\n",
    "        int pivot = arr[high];\n",
    "        int i = (low - 1);\n",
    "\n",
    "        for (int j = low; j < high; j++) {\n",
    "            if (arr[j] < pivot) {\n",
    "                i++;\n",
    "                int temp = arr[i];\n",
    "                arr[i] = arr[j];\n",
    "                arr[j] = temp;\n",
    "            }\n",
    "        }\n",
    "\n",
    "        int temp = arr[i + 1];\n",
    "        arr[i + 1] = arr[high];\n",
    "        arr[high] = temp;\n",
    "\n",
    "        return i + 1;\n",
    "    }\n",
    "}"
   ]
  },
  {
   "cell_type": "markdown",
   "metadata": {},
   "source": [
    "## Bubble Sort\n",
    "Bubble sort is a simple comparison-based sorting algorithm that repeatedly steps through the list, compares adjacent elements, and swaps them if they are in the wrong order. The process is repeated for each pair of adjacent elements until the entire list is sorted."
   ]
  },
  {
   "cell_type": "code",
   "execution_count": 12,
   "metadata": {
    "vscode": {
     "languageId": "java"
    }
   },
   "outputs": [],
   "source": [
    "public class BubbleSort {\n",
    "    \n",
    "    public static void bubbleSort(int[] arr) {\n",
    "        int n = arr.length;\n",
    "        boolean swapped;\n",
    "\n",
    "        for (int i = 0; i < n - 1; i++) {\n",
    "            swapped = false;\n",
    "            \n",
    "            for (int j = 0; j < n - i - 1; j++) {\n",
    "                if (arr[j] > arr[j + 1]) {\n",
    "                    int temp = arr[j];\n",
    "                    arr[j] = arr[j + 1];\n",
    "                    arr[j + 1] = temp;\n",
    "                    swapped = true;\n",
    "                }\n",
    "            }\n",
    "\n",
    "            if (!swapped) {\n",
    "                break;\n",
    "            }\n",
    "        }\n",
    "    }\n",
    "}"
   ]
  },
  {
   "cell_type": "code",
   "execution_count": 13,
   "metadata": {
    "vscode": {
     "languageId": "java"
    }
   },
   "outputs": [
    {
     "name": "stdout",
     "output_type": "stream",
     "text": [
      "Original array:\n",
      "7 2 4 1 5 \n",
      "\n",
      "Selection Sort:\n",
      "1 2 4 5 7 \n",
      "\n",
      "Insertion Sort:\n",
      "1 2 4 5 7 \n",
      "\n",
      "Merge Sort:\n",
      "1 2 4 5 7 \n",
      "\n",
      "Quick Sort:\n",
      "1 2 4 5 7 \n",
      "\n",
      "Bubble Sort:\n",
      "1 2 4 5 7 \n"
     ]
    }
   ],
   "source": [
    "public class SortingTest {\n",
    "\n",
    "    public static void main(String[] args) {\n",
    "        int[] arr = {7, 2, 4, 1, 5};\n",
    "        \n",
    "        System.out.println(\"Original array:\");\n",
    "        printArray(arr);\n",
    "\n",
    "        // Selection Sort\n",
    "        int[] arrSelectionSort = arr.clone();\n",
    "        System.out.println(\"\\nSelection Sort:\");\n",
    "        SelectionSort.selectionSort(arrSelectionSort);\n",
    "        printArray(arrSelectionSort);\n",
    "\n",
    "        // Insertion Sort\n",
    "        int[] arrInsertionSort = arr.clone();\n",
    "        System.out.println(\"\\nInsertion Sort:\");\n",
    "        InsertionSort.insertionSort(arrInsertionSort);\n",
    "        printArray(arrInsertionSort);\n",
    "\n",
    "        // Merge Sort\n",
    "        int[] arrMergeSort = arr.clone();\n",
    "        System.out.println(\"\\nMerge Sort:\");\n",
    "        MergeSort.mergeSort(arrMergeSort, 0, arrMergeSort.length - 1);\n",
    "        printArray(arrMergeSort);\n",
    "\n",
    "        // Quick Sort\n",
    "        int[] arrQuickSort = arr.clone();\n",
    "        System.out.println(\"\\nQuick Sort:\");\n",
    "        QuickSort.quickSort(arrQuickSort, 0, arrQuickSort.length - 1);\n",
    "        printArray(arrQuickSort);\n",
    "\n",
    "        // Bubble Sort\n",
    "        int[] arrBubbleSort = arr.clone();\n",
    "        System.out.println(\"\\nBubble Sort:\");\n",
    "        BubbleSort.bubbleSort(arrBubbleSort);\n",
    "        printArray(arrBubbleSort);\n",
    "    }\n",
    "\n",
    "    public static void printArray(int[] arr) {\n",
    "        for (int num : arr) {\n",
    "            System.out.print(num + \" \");\n",
    "        }\n",
    "        System.out.println();\n",
    "    }\n",
    "}\n",
    "SortingTest.main(null);"
   ]
  },
  {
   "cell_type": "markdown",
   "metadata": {},
   "source": [
    "## LinkedList Implementation\n",
    "- My class adds a new node with the given data to the end of the list. If the list is empty (head == null), the new node becomes the head.\n",
    "- Otherwise, it traverses to the end of the list and appends the new node there.\n",
    "\n",
    "### selectionSort() Method:\n",
    "- Implements the selection sort algorithm to sort the list in ascending order.\n",
    "- Starts from the head and iterates through each node.\n",
    "- For each node, it finds the minimum node in the remaining unsorted part of the list.\n",
    "- Swaps the data of the current node with the minimum node found."
   ]
  },
  {
   "cell_type": "code",
   "execution_count": 18,
   "metadata": {
    "vscode": {
     "languageId": "java"
    }
   },
   "outputs": [
    {
     "name": "stdout",
     "output_type": "stream",
     "text": [
      "Original list:\n",
      "Where:64 -> Am:25 -> I:12 -> What:11 -> Am:19 -> I:100 -> Doing:23 -> null\n",
      "Sorted list:\n",
      "What:11 -> I:12 -> Am:19 -> Doing:23 -> Am:25 -> Where:64 -> I:100 -> null\n"
     ]
    }
   ],
   "source": [
    "public class Node {\n",
    "    String stringData;\n",
    "    int intData;\n",
    "    Node next;\n",
    "\n",
    "    public Node(String stringData, int intData) {\n",
    "        this.stringData = stringData;\n",
    "        this.intData = intData;\n",
    "        this.next = null;\n",
    "    }\n",
    "}\n",
    "\n",
    "public class LinkedList {\n",
    "    Node head;\n",
    "\n",
    "    public void append(String stringData, int intData) {\n",
    "        Node newNode = new Node(stringData, intData);\n",
    "        if (head == null) {\n",
    "            head = newNode;\n",
    "            return;\n",
    "        }\n",
    "        Node current = head;\n",
    "        while (current.next != null) {\n",
    "            current = current.next;\n",
    "        }\n",
    "        current.next = newNode;\n",
    "    }\n",
    "\n",
    "    public void printList() {\n",
    "        Node current = head;\n",
    "        while (current != null) {\n",
    "            System.out.print(current.stringData + \":\" + current.intData + \" -> \");\n",
    "            current = current.next;\n",
    "        }\n",
    "        System.out.println(\"null\");\n",
    "    }\n",
    "\n",
    "    public void selectionSort() {\n",
    "        if (head == null || head.next == null) {\n",
    "            return;\n",
    "        }\n",
    "\n",
    "        Node current = head;\n",
    "        while (current != null) {\n",
    "            Node minNode = current;\n",
    "            Node temp = current.next;\n",
    "            while (temp != null) {\n",
    "                if (temp.intData < minNode.intData) {\n",
    "                    minNode = temp;\n",
    "                }\n",
    "                temp = temp.next;\n",
    "            }\n",
    "            // Swap data\n",
    "            String tempStringData = current.stringData;\n",
    "            int tempIntData = current.intData;\n",
    "            current.stringData = minNode.stringData;\n",
    "            current.intData = minNode.intData;\n",
    "            minNode.stringData = tempStringData;\n",
    "            minNode.intData = tempIntData;\n",
    "\n",
    "            current = current.next;\n",
    "        }\n",
    "    }\n",
    "\n",
    "    public static void main(String[] args) {\n",
    "        LinkedList list = new LinkedList();\n",
    "        list.append(\"Where\", 64);\n",
    "        list.append(\"Am\", 25);\n",
    "        list.append(\"I\", 12);\n",
    "        list.append(\"What\", 11);\n",
    "        list.append(\"Am\", 19);\n",
    "        list.append(\"I\", 100);\n",
    "        list.append(\"Doing\", 23);\n",
    "\n",
    "        System.out.println(\"Original list:\");\n",
    "        list.printList();\n",
    "\n",
    "        list.selectionSort();\n",
    "\n",
    "        System.out.println(\"Sorted list:\");\n",
    "        list.printList();\n",
    "    }\n",
    "}\n",
    "LinkedList.main(null);"
   ]
  },
  {
   "cell_type": "markdown",
   "metadata": {},
   "source": [
    "## Making the Comparable Class\n",
    "I made a class that extends Comparable in order to compare a bunch of fancy food items by price, as I think fancy food is overrated. Each object from this class would contain a name, a price, and a list of ingredients."
   ]
  },
  {
   "cell_type": "code",
   "execution_count": 9,
   "metadata": {
    "vscode": {
     "languageId": "java"
    }
   },
   "outputs": [],
   "source": [
    "interface Collectable<T> extends Comparable<T> {\n",
    "    @Override\n",
    "    int compareTo(T other);\n",
    "\n",
    "    String toString();\n",
    "}\n",
    "\n",
    "class FancyFood implements Collectable<FancyFood> {\n",
    "    private String name;\n",
    "    private double price;\n",
    "    private String[] ingredients;\n",
    "\n",
    "    public FancyFood(String name, double price, String[] ingredients) {\n",
    "        this.name = name;\n",
    "        this.price = price;\n",
    "        this.ingredients = ingredients;\n",
    "    }\n",
    "\n",
    "    public String getName() { return name; }\n",
    "    public double getPrice() { return price; }\n",
    "    public String[] getIngredients() { return ingredients; }\n",
    "\n",
    "    @Override\n",
    "    public int compareTo(FancyFood other) {\n",
    "        return Double.compare(this.price, other.price);\n",
    "    }\n",
    "\n",
    "    @Override\n",
    "    public String toString() {\n",
    "        return name + \" ($\" + price + \")\";\n",
    "    }\n",
    "}"
   ]
  },
  {
   "cell_type": "markdown",
   "metadata": {},
   "source": [
    "## Testing\n",
    "I repurposed the selectionsort algorithm for this form of linkedlist and sorted each of the fancy foods by price, while I didn't print the list of ingredients I did sort by price and name. In the future it would be interesting to see if I could implenent a sort by alphabetical order or something more than just integer."
   ]
  },
  {
   "cell_type": "code",
   "execution_count": 19,
   "metadata": {
    "vscode": {
     "languageId": "java"
    }
   },
   "outputs": [
    {
     "name": "stdout",
     "output_type": "stream",
     "text": [
      "Original list:\n",
      "Truffle Risotto ($35.5)\n",
      "Foie Gras ($50.0)\n",
      "Caviar ($100.0)\n",
      "Kobe Beef Steak ($85.0)\n",
      "Lobster Thermidor ($75.0)\n",
      "\n",
      "Sorted list:\n",
      "Truffle Risotto ($35.5)\n",
      "Foie Gras ($50.0)\n",
      "Lobster Thermidor ($75.0)\n",
      "Kobe Beef Steak ($85.0)\n",
      "Caviar ($100.0)\n"
     ]
    }
   ],
   "source": [
    "public class Node {\n",
    "    FancyFood data;\n",
    "    Node next;\n",
    "\n",
    "    public Node(FancyFood data) {\n",
    "        this.data = data;\n",
    "        this.next = null;\n",
    "    }\n",
    "}\n",
    "\n",
    "public class LinkedList {\n",
    "    Node head;\n",
    "\n",
    "    public void append(FancyFood data) {\n",
    "        Node newNode = new Node(data);\n",
    "        if (head == null) {\n",
    "            head = newNode;\n",
    "            return;\n",
    "        }\n",
    "        Node current = head;\n",
    "        while (current.next != null) {\n",
    "            current = current.next;\n",
    "        }\n",
    "        current.next = newNode;\n",
    "    }\n",
    "\n",
    "    public void printList() {\n",
    "        Node current = head;\n",
    "        while (current != null) {\n",
    "            System.out.println(current.data);\n",
    "            current = current.next;\n",
    "        }\n",
    "    }\n",
    "\n",
    "    public void selectionSort() {\n",
    "        if (head == null || head.next == null) {\n",
    "            return;\n",
    "        }\n",
    "\n",
    "        Node current = head;\n",
    "        while (current != null) {\n",
    "            Node minNode = current;\n",
    "            Node temp = current.next;\n",
    "            while (temp != null) {\n",
    "                if (temp.data.compareTo(minNode.data) < 0) {\n",
    "                    minNode = temp;\n",
    "                }\n",
    "                temp = temp.next;\n",
    "            }\n",
    "\n",
    "            // Swap data\n",
    "            FancyFood tempData = current.data;\n",
    "            current.data = minNode.data;\n",
    "            minNode.data = tempData;\n",
    "\n",
    "            current = current.next;\n",
    "        }\n",
    "    }\n",
    "    \n",
    "}\n",
    "public class Tester {\n",
    "    public static void main(String[] args) {\n",
    "        LinkedList list = new LinkedList();\n",
    "\n",
    "        // Creating FancyFood objects and appending them to the LinkedList\n",
    "        list.append(new FancyFood(\"Truffle Risotto\", 35.50, new String[]{\"Arborio rice\", \"Truffle oil\", \"Parmesan cheese\"}));\n",
    "        list.append(new FancyFood(\"Foie Gras\", 50.00, new String[]{\"Duck liver\", \"Brioche\", \"Fig jam\"}));\n",
    "        list.append(new FancyFood(\"Caviar\", 100.00, new String[]{\"Sturgeon roe\", \"Blini\", \"Crème fraîche\"}));\n",
    "        list.append(new FancyFood(\"Kobe Beef Steak\", 85.00, new String[]{\"Kobe beef\", \"Potato gratin\", \"Asparagus\"}));\n",
    "        list.append(new FancyFood(\"Lobster Thermidor\", 75.00, new String[]{\"Lobster tail\", \"Brandy\", \"Mushrooms\"}));\n",
    "\n",
    "        // Printing the original list\n",
    "        System.out.println(\"Original list:\");\n",
    "        list.printList();\n",
    "\n",
    "        // Sorting the list using selectionSort()\n",
    "        list.selectionSort();\n",
    "\n",
    "        System.out.println();\n",
    "    \n",
    "        // Printing the sorted list\n",
    "        System.out.println(\"Sorted list:\");\n",
    "        list.printList();\n",
    "    }\n",
    "}\n",
    "Tester.main(null);"
   ]
  }
 ],
 "metadata": {
  "kernelspec": {
   "display_name": "Java",
   "language": "java",
   "name": "java"
  },
  "language_info": {
   "codemirror_mode": "java",
   "file_extension": ".jshell",
   "mimetype": "text/x-java-source",
   "name": "Java",
   "pygments_lexer": "java",
   "version": "18.0.2-ea+9-Ubuntu-222.04"
  }
 },
 "nbformat": 4,
 "nbformat_minor": 2
}
