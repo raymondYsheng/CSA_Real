{
 "cells": [
  {
   "cell_type": "markdown",
   "metadata": {},
   "source": [
    "---\n",
    "comments: true\n",
    "layout: post\n",
    "title: Check For Installation\n",
    "courses: { csp: {week: 1} }\n",
    "type: hacks\n",
    "---\n",
    "## Check For Installation\n",
    "Checks if VSCode, Bash, WSL, and Python are installed using Bash."
   ]
  },
  {
   "cell_type": "code",
   "execution_count": 1,
   "metadata": {
    "vscode": {
     "languageId": "shellscript"
    }
   },
   "outputs": [
    {
     "name": "stdout",
     "output_type": "stream",
     "text": [
      "VSCode is installed.\n",
      "Bash is installed.\n",
      "Linux (WSL) is available.\n",
      "Jupyter Notebook is installed.\n",
      "Python is installed.\n"
     ]
    }
   ],
   "source": [
    "#!/bin/bash\n",
    "\n",
    "# Check if VSCode is installed\n",
    "if command -v code &>/dev/null; then\n",
    "    echo \"VSCode is installed.\"\n",
    "else\n",
    "    echo \"VSCode is not installed.\"\n",
    "fi\n",
    "\n",
    "# Check if Bash is installed\n",
    "if command -v bash &>/dev/null; then\n",
    "    echo \"Bash is installed.\"\n",
    "else\n",
    "    echo \"Bash is not installed.\"\n",
    "fi\n",
    "\n",
    "# Check if Linux (WSL) is available (assuming you are running this script on WSL)\n",
    "if grep -q Microsoft /proc/version; then\n",
    "    echo \"Linux (WSL) is available.\"\n",
    "else\n",
    "    echo \"Linux (WSL) is not available.\"\n",
    "fi\n",
    "\n",
    "# Check if Jupyter Notebook is installed\n",
    "if command -v jupyter &>/dev/null; then\n",
    "    echo \"Jupyter Notebook is installed.\"\n",
    "else\n",
    "    echo \"Jupyter Notebook is not installed.\"\n",
    "fi\n",
    "\n",
    "# Check if Python is installed\n",
    "if command -v python &>/dev/null; then\n",
    "    echo \"Python is installed.\"\n",
    "else\n",
    "    echo \"Python is not installed.\"\n",
    "fi\n"
   ]
  }
 ],
 "metadata": {
  "kernelspec": {
   "display_name": "Bash",
   "language": "bash",
   "name": "bash"
  },
  "language_info": {
   "codemirror_mode": "shell",
   "file_extension": ".sh",
   "mimetype": "text/x-sh",
   "name": "bash"
  },
  "orig_nbformat": 4
 },
 "nbformat": 4,
 "nbformat_minor": 2
}
