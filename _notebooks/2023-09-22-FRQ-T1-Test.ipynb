{
 "cells": [
  {
   "cell_type": "markdown",
   "metadata": {},
   "source": [
    "---\n",
    "layout: post\n",
    "title: FRQ T1 Test\n",
    "courses: { csp: {week: 5} }\n",
    "type: hacks\n",
    "\n",
    "---\n",
    ">## FRQ T1 Test"
   ]
  },
  {
   "cell_type": "markdown",
   "metadata": {},
   "source": [
    "# Initialize Numerical Keypad"
   ]
  },
  {
   "cell_type": "code",
   "execution_count": 94,
   "metadata": {},
   "outputs": [],
   "source": [
    "public static void initializeKeyboard() {\n",
    "    int[][] keypad = new int[4][3];;\n",
    "    for (int i = 0; i < keypad.length; i++)\n",
    "    {\n",
    "        for (int j = 0; j < keypad[0].length; j++)\n",
    "        {\n",
    "            int val = (3 * i + j + 1);\n",
    "            keypad[i][j] = val;\n",
    "        }\n",
    "    }    \n",
    "    loop1: for (int i = 0; i < keypad.length; i++)\n",
    "    {\n",
    "        for (int j = 0; j < keypad[i].length; j++)\n",
    "        {\n",
    "            if (i == 3 && j == 0)\n",
    "            {\n",
    "                System.out.print(0);\n",
    "                System.out.println();\n",
    "                break loop1;\n",
    "            }\n",
    "            System.out.print(keypad[i][j] + \" \");\n",
    "        }\n",
    "        System.out.println();\n",
    "    }\n",
    "}"
   ]
  },
  {
   "cell_type": "markdown",
   "metadata": {},
   "source": [
    "# Reverse an Array"
   ]
  },
  {
   "cell_type": "code",
   "execution_count": null,
   "metadata": {},
   "outputs": [],
   "source": []
  },
  {
   "cell_type": "markdown",
   "metadata": {},
   "source": [
    "# Initialize Random Integers in ArrayList"
   ]
  },
  {
   "cell_type": "code",
   "execution_count": 95,
   "metadata": {},
   "outputs": [],
   "source": [
    "public static ArrayList randomList(int length, int min, int max) {\n",
    "    ArrayList<Integer> list = new ArrayList<Integer>();\n",
    "    for (int i=0; i < length; i++) {\n",
    "        int randval = (int) ((Math.random() * (max - min + 1)) + min);\n",
    "        list.add(randval);\n",
    "    }\n",
    "    return list;\n",
    "    \n",
    "}"
   ]
  },
  {
   "cell_type": "markdown",
   "metadata": {},
   "source": [
    "# Output"
   ]
  },
  {
   "cell_type": "code",
   "execution_count": 96,
   "metadata": {},
   "outputs": [
    {
     "name": "stdout",
     "output_type": "stream",
     "text": [
      "1 2 3 \n",
      "4 5 6 \n",
      "7 8 9 \n",
      "0\n",
      "[5, 2, 2, 5, 5]\n"
     ]
    }
   ],
   "source": [
    "public static void main(String[] args)\n",
    "{\n",
    "    initializeKeyboard();\n",
    "\n",
    "    // initialize random ints\n",
    "    ArrayList<Integer> randomList = randomList(5, 2, 8);\n",
    "    System.out.println(randomList);\n",
    "    // System.out.println((int) (Math.random() * (8 - 2 + 1) + 2));\n",
    "}\n",
    "\n",
    "main(null);"
   ]
  }
 ],
 "metadata": {
  "kernelspec": {
   "display_name": "Java",
   "language": "java",
   "name": "java"
  },
  "language_info": {
   "codemirror_mode": "java",
   "file_extension": ".jshell",
   "mimetype": "text/x-java-source",
   "name": "java",
   "pygments_lexer": "java",
   "version": "18.0.2-ea+9-Ubuntu-222.04"
  },
  "orig_nbformat": 4
 },
 "nbformat": 4,
 "nbformat_minor": 2
}
