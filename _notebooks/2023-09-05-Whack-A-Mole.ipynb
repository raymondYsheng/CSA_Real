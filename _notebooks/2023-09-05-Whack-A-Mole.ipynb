{
 "cells": [
  {
   "cell_type": "markdown",
   "metadata": {},
   "source": []
  },
  {
   "cell_type": "markdown",
   "metadata": {},
   "source": [
    "<body>\n",
    "    <h1>Whack-a-Mole Game</h1>\n",
    "    <p>Score: <span id=\"score\">0</span></p>\n",
    "    <div class=\"game-container\" id=\"game-container\">\n",
    "        <!-- Moles will be added here dynamically -->\n",
    "    </div>\n",
    "    <script>\n",
    "        const gameContainer = document.getElementById('game-container');\n",
    "        const scoreDisplay = document.getElementById('score');\n",
    "        const moles = [];\n",
    "\n",
    "        let score = 0;\n",
    "\n",
    "        function createMole() {\n",
    "            const mole = document.createElement('div');\n",
    "            mole.classList.add('hole');\n",
    "            mole.addEventListener('click', whackMole);\n",
    "            gameContainer.appendChild(mole);\n",
    "            moles.push(mole);\n",
    "            setTimeout(() => {\n",
    "                if (!mole.classList.contains('whacked')) {\n",
    "                    gameContainer.removeChild(mole);\n",
    "                    moles.splice(moles.indexOf(mole), 1);\n",
    "                    updateScore(-1);\n",
    "                }\n",
    "            }, 1000 + Math.random() * 2000);\n",
    "        }\n",
    "\n",
    "        function whackMole() {\n",
    "            if (!this.classList.contains('whacked')) {\n",
    "                this.classList.add('whacked');\n",
    "                gameContainer.removeChild(this);\n",
    "                moles.splice(moles.indexOf(this), 1);\n",
    "                updateScore(1);\n",
    "            }\n",
    "        }\n",
    "\n",
    "        function updateScore(value) {\n",
    "            score += value;\n",
    "            scoreDisplay.textContent = score;\n",
    "        }\n",
    "\n",
    "        setInterval(createMole, 1000);\n",
    "\n",
    "    </script>\n",
    "</body>"
   ]
  }
 ],
 "metadata": {
  "language_info": {
   "name": "python"
  },
  "orig_nbformat": 4
 },
 "nbformat": 4,
 "nbformat_minor": 2
}
