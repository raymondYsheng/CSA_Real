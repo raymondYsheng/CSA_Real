{
 "cells": [
  {
   "cell_type": "code",
   "execution_count": 2,
   "metadata": {
    "vscode": {
     "languageId": "java"
    }
   },
   "outputs": [],
   "source": [
    "public class Student {\n",
    "    \n",
    "    private String name;\n",
    "    private int age;\n",
    "\n",
    "    public Student(String name, int age) {\n",
    "        this.name = name;\n",
    "        this.age = age;\n",
    "    }\n",
    "\n",
    "    public void introduce() {\n",
    "        System.out.println(\"Hello, my name is \" + name + \" and I am \" + age + \" years old.\");\n",
    "    }\n",
    "\n",
    "    public void celebrateBirthday() {\n",
    "        age++;\n",
    "        System.out.println(name + \" is now \" + age + \" years old.\");\n",
    "    }\n",
    "\n",
    "    public static void main(String[] args) {\n",
    "        Student student1 = new Student(\"Alice\", 20);\n",
    "\n",
    "        student1.introduce();\n",
    "        student1.celebrateBirthday(); \n",
    "    }\n",
    "}\n"
   ]
  },
  {
   "cell_type": "markdown",
   "metadata": {},
   "source": [
    "Java Hello"
   ]
  }
 ],
 "metadata": {
  "kernelspec": {
   "display_name": "Java",
   "language": "java",
   "name": "java"
  },
  "language_info": {
   "codemirror_mode": "java",
   "file_extension": ".jshell",
   "mimetype": "text/x-java-source",
   "name": "Java",
   "pygments_lexer": "java",
   "version": "18.0.2-ea+9-Ubuntu-222.04"
  },
  "orig_nbformat": 4
 },
 "nbformat": 4,
 "nbformat_minor": 2
}
