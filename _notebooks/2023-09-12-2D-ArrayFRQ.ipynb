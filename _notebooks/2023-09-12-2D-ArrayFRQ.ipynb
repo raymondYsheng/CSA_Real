{
 "cells": [
  {
   "cell_type": "markdown",
   "metadata": {},
   "source": [
    "---\n",
    "layout: post\n",
    "title: 2D Array FRQ (Question 4)\n",
    "courses: { csp: {week: 4} }\n",
    "type: hacks\n",
    "\n",
    "---\n",
    ">## 2D Array 2022 FRQ\n",
    ">>My answers for the fourth question in the 2022 FRQ"
   ]
  },
  {
   "cell_type": "markdown",
   "metadata": {},
   "source": [
    "> ## Part A\n",
    "> (a) Write the repopulate method, which assigns a newly generated random value to each element of grid. Each value is computed to meet all of the following criteria, and all valid values must have an equal chance of being generated. • The value is between 1 and MAX, inclusive. • The value is divisible by 10. • The value is not divisible by 100. Complete the repopulate method."
   ]
  },
  {
   "cell_type": "code",
   "execution_count": null,
   "metadata": {
    "vscode": {
     "languageId": "java"
    }
   },
   "outputs": [],
   "source": [
    "public void repopulate()\n",
    "{\n",
    "    Random rand = new Random();\n",
    "    for (int i = 0; i < grid.length; i++)\n",
    "    {\n",
    "        for (int j = 0; j < grid[0].length; j++)\n",
    "        {\n",
    "            while (true)\n",
    "            {\n",
    "                int randNum = rand.nextInt(MAX) + 1; \n",
    "                if (randNum % 10 == 0 && randNum % 100 != 0)\n",
    "                {\n",
    "                    grid[i][j] = randNum;\n",
    "                    break;\n",
    "                }\n",
    "            }\n",
    "        }\n",
    "    }\n",
    "}"
   ]
  },
  {
   "cell_type": "markdown",
   "metadata": {},
   "source": [
    "The repopulate method scans throughout the array and generates a random integer at each index. Then it checks if the integer is divisible by 10 and not divisible by 100, and if it satisfies this condition, the loop moves on to the next index."
   ]
  },
  {
   "cell_type": "markdown",
   "metadata": {},
   "source": [
    "> ## Part B\n",
    "> (b) Write the countIncreasingcols method, which returns the number of columns in grid that are in increasing order. A column is considered to be in increasing order if the element in each row after the first row is greater than or equal to the element in the previous row. A column with only one row is considered to be in increasing order. \n",
    "The following examples show the count Increasingcols return values for possible contents of grid. \n",
    "The return value for the following contents of grid is 1, since the first column is in increasing order but the second and third columns are not. \n",
    "\n",
    "| 10  | 50  | 40  |\n",
    "| 20  | 40  | 20  |\n",
    "| 30  | 50  | 30  |\n",
    "\n",
    ">The return value for the following contents of grid is 2, since the first and third columns are in increasing order but the second and fourth columns are not. \n",
    "\n",
    "|  10 | 540 | 440 | 440 |\n",
    "| 220 | 450 | 440 | 190 |\n",
    "\n",
    ">Complete the countincreasingCols method.\n"
   ]
  },
  {
   "cell_type": "code",
   "execution_count": 5,
   "metadata": {
    "vscode": {
     "languageId": "java"
    }
   },
   "outputs": [],
   "source": [
    "public int countIncreasingCols() { //Part B\n",
    "    int ans = 0;\n",
    "    for (int i = 0; i < grid[0].length; i++)\n",
    "    {\n",
    "        boolean increasing = true;\n",
    "        for (int j = 1; j < grid.length; j++) \n",
    "        {\n",
    "            if (grid[j][i] < grid[j-1][i]) \n",
    "            {\n",
    "                increasing = false;\n",
    "                break;\n",
    "            }\n",
    "        }\n",
    "        if (increasing)\n",
    "        {\n",
    "            ans++;\n",
    "        }\n",
    "    }\n",
    "    return ans;\n",
    "}"
   ]
  },
  {
   "cell_type": "markdown",
   "metadata": {},
   "source": [
    "In the countIncreasingCols, I scan through the columns first (grid[0].length yields the total number of columns) and then scan through each row in each column (grid.length yields the total number of rows). I set the increasing boolean as a flag to ensure that, if the column is not in increasing order, the answer is not increased. Then I checked if every element in the column is greater than or equal to the previous element to see if it is increasing order, changing the increasing boolean to false if it is not. Then I output the number of increasing columns.  "
   ]
  },
  {
   "cell_type": "markdown",
   "metadata": {},
   "source": [
    "## Fully Working Answer"
   ]
  },
  {
   "cell_type": "code",
   "execution_count": 2,
   "metadata": {
    "vscode": {
     "languageId": "java"
    }
   },
   "outputs": [
    {
     "name": "stdout",
     "output_type": "stream",
     "text": [
      "10 60 10 \n",
      "20 50 40 \n",
      "Print the array backwards\n",
      "40 50 20 \n",
      "10 60 10 \n",
      "2\n"
     ]
    }
   ],
   "source": [
    "import java.util.*;\n",
    "public class Data\n",
    "{\n",
    "    public static final int MAX = 106;\n",
    "    private int[][] grid = new int[2][3];\n",
    "\n",
    "    public void repopulate()\n",
    "    { //Part A\n",
    "        Random rand = new Random();\n",
    "        for (int i = 0; i < grid.length; i++)\n",
    "        {\n",
    "            for (int j = 0; j < grid[0].length; j++) //1 point for traversing the grid\n",
    "            {\n",
    "                while (true)\n",
    "                {\n",
    "                    int randNum = rand.nextInt(MAX) + 1; //1 point for getting rand\n",
    "                    if (randNum % 10 == 0 && randNum % 100 != 0) //1 point for ensure /10 and /- 100\n",
    "                    {\n",
    "                        grid[i][j] = randNum; //1 point for assigning the value\n",
    "                        break;\n",
    "                    }\n",
    "                }\n",
    "            }\n",
    "        }\n",
    "\n",
    "        for (int i = 0; i < grid.length; i++)\n",
    "        {\n",
    "            for (int j = 0; j < grid[0].length; j++)\n",
    "            {\n",
    "                System.out.print(grid[i][j] + \" \");\n",
    "            }\n",
    "            System.out.println();\n",
    "        }\n",
    "\n",
    "        System.out.println(\"Print the array backwards\");\n",
    "\n",
    "        for (int i = grid.length - 1; i >= 0; i--)\n",
    "        {\n",
    "            for (int j = grid[i].length - 1; j >= 0; j--)\n",
    "            {\n",
    "                System.out.print(grid[i][j] + \" \");\n",
    "            }\n",
    "            System.out.println();\n",
    "        }\n",
    "\n",
    "    }\n",
    "    public int countIncreasingCols() { //Part B\n",
    "        int ans = 0;\n",
    "        for (int i = 0; i < grid[0].length; i++)\n",
    "        {\n",
    "            boolean increasing = true;\n",
    "            for (int j = 1; j < grid.length; j++) //1 point for going thru columns\n",
    "            {\n",
    "                if (grid[j][i] < grid[j-1][i]) //1 point for comparing elements in grid, 1 point for detecting if the column is increasing\n",
    "                {\n",
    "                    increasing = false;\n",
    "                    break;\n",
    "                }\n",
    "            }\n",
    "            if (increasing)\n",
    "            {\n",
    "                ans++; //1 point for counting all columns that are increasing\n",
    "            }\n",
    "        }\n",
    "        return ans; //1 point for returning answer\n",
    "    }\n",
    "}\n",
    "\n",
    "public class Main {\n",
    "    public static void main(String[] args)\n",
    "    {\n",
    "        Data data = new Data();\n",
    "        data.repopulate();\n",
    "\n",
    "        System.out.println(data.countIncreasingCols());\n",
    "    }\n",
    "}\n",
    "\n",
    "Main.main(null);"
   ]
  },
  {
   "cell_type": "markdown",
   "metadata": {},
   "source": [
    "> ## Improvements\n",
    ">>For part A, I should have changed the i and j in the loops to be named row and col because it makes it easier to read and understand in the array. The answers also used the Math.random object instead of the Random class. I think my choice was better in this case because the Random class let me directly create a random integer instead of the Math.random making a double. I would have gotten a 4/4 on this part.\n",
    "\n",
    ">> For part B, instead of breaking or continuing a loop and creating a label, I could have added a boolean that determines whether the elements in the column are already ordered. I also should have labelled the loop variables \"column\" and \"row\" instead of i and j so that it is easier to understand and work with. If I had done this I wouldn't have made the mistake I did, where I added the increment instead of subtracting it, which would have gotten the previous value to compare with the current value. I would have gotten a 4/5 on this part."
   ]
  }
 ],
 "metadata": {
  "kernelspec": {
   "display_name": "Java",
   "language": "java",
   "name": "java"
  },
  "language_info": {
   "codemirror_mode": "java",
   "file_extension": ".jshell",
   "mimetype": "text/x-java-source",
   "name": "Java",
   "pygments_lexer": "java",
   "version": "18.0.2-ea+9-Ubuntu-222.04"
  },
  "orig_nbformat": 4
 },
 "nbformat": 4,
 "nbformat_minor": 2
}
