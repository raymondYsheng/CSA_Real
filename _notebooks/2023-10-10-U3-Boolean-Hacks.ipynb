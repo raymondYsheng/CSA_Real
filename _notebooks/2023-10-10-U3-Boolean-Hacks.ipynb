{
 "cells": [
  {
   "cell_type": "markdown",
   "metadata": {},
   "source": [
    "---\n",
    "layout: post\n",
    "title: U3 Boolean and If statements Hacks\n",
    "comments: true\n",
    "courses: { csp: {week: 7} }\n",
    "type: hacks\n",
    "---\n"
   ]
  },
  {
   "cell_type": "markdown",
   "metadata": {},
   "source": [
    "**I answered the questions on the wget blogs:**\n",
    "-  https://raymondysheng.github.io/CSA_Repo//2023/09/19/binarylogic.html\n",
    "- https://raymondysheng.github.io/CSA_Repo//2023/09/17/boolean-lesson_IPYNB_2_.html\n",
    "**The hacks at the end of each blog are below**"
   ]
  },
  {
   "cell_type": "code",
   "execution_count": 1,
   "metadata": {},
   "outputs": [
    {
     "name": "stdout",
     "output_type": "stream",
     "text": [
      "Guess my name!\n",
      "Your guess: John\n",
      "true\n"
     ]
    }
   ],
   "source": [
    "public class Challenge {\n",
    "\n",
    "    private static boolean isName = false;\n",
    "    private static String name = new String(\"John\");\n",
    "\n",
    "\n",
    "    public static void main(String [] args){\n",
    "\n",
    "        Scanner sc = new Scanner(System.in);\n",
    "\n",
    "        System.out.println(\"Guess my name!\");\n",
    "\n",
    "        String guess = sc.nextLine();\n",
    "        System.out.println(\"Your guess: \"+guess);\n",
    "\n",
    "    \n",
    "        if(guess.equals(name)){ \n",
    "            isName = true;\n",
    "        } else {\n",
    "            System.out.println(\"Wrong! L Cope\");\n",
    "        }\n",
    "\n",
    "        System.out.println(isName);\n",
    "\n",
    "    }\n",
    "}\n",
    "\n",
    "Challenge.main(null);"
   ]
  },
  {
   "cell_type": "markdown",
   "metadata": {},
   "source": [
    "# Homework \n",
    "Now that you know what boolean expressions are and how to write them, as well as several comparison methods, your task is to write a class that uses either the compareTo or comparator and compare. Then create two instances of these classes and demonstrate using if statements. \n",
    "\n",
    "\n",
    "\n",
    "\n",
    "BONUS: Create a program that checks if a year is a leap year or not.\n",
    "\n",
    "Here is how the method should work: \n",
    "\n",
    "(1) Prompt the user to input any year that they would like <br>\n",
    "(2) Determine if the year is a leap year or not <br>\n",
    "(3) Print the necessary dialogue (ex. [year] is/is not a leap year) AND return the value of any boolean(s) used\n",
    "\n"
   ]
  },
  {
   "cell_type": "code",
   "execution_count": 6,
   "metadata": {},
   "outputs": [
    {
     "name": "stdout",
     "output_type": "stream",
     "text": [
      "Beagle is older than Lab\n"
     ]
    }
   ],
   "source": [
    "public class Doggos {\n",
    "    private String breed;\n",
    "    private int age;\n",
    "    public Doggos(String breed, int age) {\n",
    "        this.age = age;\n",
    "        this.breed = breed;\n",
    "    }\n",
    "    public int compareTo(Doggos other)\n",
    "    {\n",
    "        return Integer.compare(this.age, other.age);\n",
    "    }\n",
    "    public String getBreed ()\n",
    "    {\n",
    "        return breed;\n",
    "    }\n",
    "\n",
    "    public static void main(String[] args)\n",
    "    {\n",
    "        Doggos dog1 = new Doggos(\"Beagle\", 4);\n",
    "        Doggos dog2 = new Doggos(\"Lab\", 2);\n",
    "        if (dog1.compareTo(dog2) < 0)\n",
    "        {\n",
    "            System.out.println(dog1.getBreed() + \" is younger than \" + dog2.getBreed());\n",
    "        }\n",
    "        else if (dog1.compareTo(dog2) > 0)\n",
    "        {\n",
    "            System.out.println(dog1.getBreed() + \" is older than \" + dog2.getBreed());\n",
    "        }\n",
    "        else\n",
    "        {\n",
    "            if (dog1.compareTo(dog2) < 0)\n",
    "        {\n",
    "            System.out.println(dog1.getBreed() + \" is the same age as \" + dog2.getBreed());\n",
    "        }\n",
    "        }\n",
    "    }\n",
    "}\n",
    "Doggos.main(null);"
   ]
  },
  {
   "cell_type": "code",
   "execution_count": 3,
   "metadata": {},
   "outputs": [
    {
     "name": "stdout",
     "output_type": "stream",
     "text": [
      "Enter a year: "
     ]
    },
    {
     "name": "stdout",
     "output_type": "stream",
     "text": [
      "2024 is a leap year.\n",
      "It is a leap year\n"
     ]
    }
   ],
   "source": [
    "public class LeapYear {\n",
    "    public static void main(String[] args) {\n",
    "        Scanner scanner = new Scanner(System.in);\n",
    "        System.out.print(\"Enter a year: \");\n",
    "        int year = scanner.nextInt();\n",
    "        scanner.close();\n",
    "\n",
    "        boolean isLeapYear = isLeapYear(year);\n",
    "\n",
    "        System.out.println(year + (isLeapYear ? \" is\" : \" is not\") + \" a leap year.\");\n",
    "\n",
    "        if (isLeapYear)\n",
    "        {\n",
    "            System.out.println(\"It is a leap year\");\n",
    "        }\n",
    "        else\n",
    "        {\n",
    "            System.out.println(\"It is not a leap year\");\n",
    "        }\n",
    "    }\n",
    "\n",
    "    public static boolean isLeapYear(int year) {\n",
    "        return (year % 4 == 0 && year % 100 != 0) || (year % 400 == 0);\n",
    "    }\n",
    "}\n",
    "LeapYear.main(null);"
   ]
  },
  {
   "cell_type": "markdown",
   "metadata": {},
   "source": [
    "Complete the weird questions below.\n",
    "# Weird questions\n",
    "1. !(true)&&(false) = ? what in boolean values?\n",
    "<br> false\n",
    "\n",
    "2. not ((((true and not (false)) ^ false) ^ true) && false) (remember PEMDASNAO!)\n",
    "<br> not ((((true and true) ^ false) ^ true) && false)\n",
    "<br> not (((true ^ false) ^ true) && false)\n",
    "<br> not ((true ^ true) && false)\n",
    "<br> not (false && false)\n",
    "<br> not (false)\n",
    "<br> true\n",
    "\n",
    "3. Prove the following: !A * !(B + !C) = !A * (!B * C)\n",
    "<br> De Morgan's: !A * (!B * C) = !A * (!B * C)\n",
    "\n",
    "4. 420 && 66 (Hint, convert to binary, then perform the operation)\n",
    "<br> 110100100 && 1000010\n",
    "<br> 0000000 = 0\n",
    "\n",
    "   1. If you got this one, try 89 OR 42\n",
    "   <br> 1011001 || 101010\n",
    "   <br> 1111011 = 123\n",
    "\n",
    "For each example, you can use code, but then show your work and how you got it. Please ask questions if you are confused!\n"
   ]
  }
 ],
 "metadata": {
  "kernelspec": {
   "display_name": "Java",
   "language": "java",
   "name": "java"
  },
  "language_info": {
   "codemirror_mode": "java",
   "file_extension": ".jshell",
   "mimetype": "text/x-java-source",
   "name": "java",
   "pygments_lexer": "java",
   "version": "18.0.2-ea+9-Ubuntu-222.04"
  }
 },
 "nbformat": 4,
 "nbformat_minor": 2
}
