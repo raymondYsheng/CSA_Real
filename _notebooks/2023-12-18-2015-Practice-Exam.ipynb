{
 "cells": [
  {
   "cell_type": "markdown",
   "metadata": {},
   "source": [
    "## Collegeboard Quiz Notes:\n",
    "- Using scratch paper or help thought process\n",
    "- "
   ]
  }
 ],
 "metadata": {
  "language_info": {
   "name": "python"
  }
 },
 "nbformat": 4,
 "nbformat_minor": 2
}
