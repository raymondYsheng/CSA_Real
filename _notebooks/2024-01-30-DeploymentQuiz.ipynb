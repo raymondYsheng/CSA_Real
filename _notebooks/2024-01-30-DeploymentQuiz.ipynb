{
 "cells": [
  {
   "cell_type": "markdown",
   "metadata": {},
   "source": [
    "---\n",
    "title: Deployment Quiz\n",
    "toc: true\n",
    "layout: post\n",
    "courses: { csp: {week: 22} }\n",
    "type: hacks\n",
    "---"
   ]
  },
  {
   "cell_type": "markdown",
   "metadata": {},
   "source": [
    "### Deployment Quiz:\n",
    "Question 1:\n",
    "Describe reverse proxy of server_name to proxy_pass\n",
    "\n",
    "The server_name configuration indicates url of the domain, and the proxy_pass indicates the allowed url to access the server. In a more general sense, the server_name defines your backend, and the proxy_pass forwards the request to the server by allowing that url to access it.\n",
    "\n",
    "**Score: 0.9/1**\n",
    "\n",
    "Config File:"
   ]
  },
  {
   "cell_type": "markdown",
   "metadata": {},
   "source": [
    "```\n",
    "server {\n",
    "   listen 80;\n",
    "    listen [::]:80;\n",
    "    server_name -----.stu.nighthawkcodingsociety.com ;\n",
    "    # Configure CORS Headers\n",
    "    location / { \n",
    "        proxy_pass http://localhost:8084;\n",
    "        # Simple requests\n",
    "        if ($request_method ~* \"(GET|POST|PUT|DELETE)\") { # Customize Request methods based on your needs\n",
    "                add_header \"Access-Control-Allow-Origin\"  *;\n",
    "        }\n",
    "        # Preflighted requests \n",
    "        if ($request_method = OPTIONS ) {\n",
    "                add_header \"Access-Control-Allow-Origin\"  \n",
    "                add_header \"Access-Control-Allow-Methods\" \"GET, POST, PUT, DELETE, OPTIONS, HEAD\"; # Make sure the request methods above match here\n",
    "                add_header \"Access-Control-Allow-Headers\" \"Authorization, Origin, X-Requested-With, Content-Type, Accept\";\n",
    "                return 200;\n",
    "        }\n",
    "    }\n",
    "}\n",
    "```"
   ]
  },
  {
   "cell_type": "markdown",
   "metadata": {},
   "source": [
    "Question 2: Show JWT signup and/or login process\n",
    "\n",
    "JWT signin involves the /authenticate endpoint which creates a JWT token that can then be used to allow the user to access role-specific functions.\n",
    "\n",
    "**Score: 0.95/1**"
   ]
  },
  {
   "cell_type": "markdown",
   "metadata": {},
   "source": [
    "Question 3: Explain security configuration rules that are required for access (1 request matcher with permit, 1 with required)\n",
    "\n",
    "Security configuration rules allow you to customize what kind of users can access what kind of endpoints. For example: `.requestMatchers(\"/authenticate\").permitAll()` is an example of a request matcher that allows any user to use i.e. any user can try to authenticate. An example where only some users with specific properties/roles can access an endpoint would be `requestMatchers(\"/api/person/post/**\", \"/api/person/delete/**\").hasAnyAuthority(\"ROLE_ADMIN\")` where only those with the role ROLE_ADMIN can access the /post and /delete methods, ensuring security.\n",
    "\n",
    "**Score: 0.9/1**"
   ]
  },
  {
   "cell_type": "markdown",
   "metadata": {},
   "source": [
    "Question 4: Explain a POJO and changes to a POJO (show in VSCode editor, show changes made, show in Postman)\n",
    "\n",
    "A POJO is a Plain Old Java Object, a custom object that is not restricted. In this case it will be a Person object.\n",
    "\n",
    "**Score: 0.9/1**"
   ]
  },
  {
   "cell_type": "markdown",
   "metadata": {},
   "source": [
    "Question 5: Describe docker and process for update docker application (show sequence of commands required to do an application update)\n",
    "\n",
    "Sequence of commands for updating the application:\n",
    "- docker-compose down\n",
    "- git pull\n",
    "- ./mvnw clean\n",
    "- docker-compose up -d --build\n",
    "\n",
    "Sequence of commands for a updating docker:\n",
    "\n",
    "- docker images\n",
    "  - Get the list of existing docker images\n",
    "- docker pull [docker_image]\n",
    "  - Use this to install the desired docker image (can use latest tag to get most recent)\n",
    "- docker ps\n",
    "  - Get current image docker ID\n",
    "- docker stop [container_id]\n",
    "  - Stop the current ID\n",
    "- docker rm [container_id]\n",
    "  - Clear the old ID\n",
    "- docker run --name=[container_name] [options] [docker_image]\n",
    "  - Use the newest image of docker\n",
    "\n",
    "\n",
    "**Score: 0.85/1**"
   ]
  },
  {
   "cell_type": "markdown",
   "metadata": {},
   "source": []
  }
 ],
 "metadata": {
  "language_info": {
   "name": "python"
  }
 },
 "nbformat": 4,
 "nbformat_minor": 2
}
