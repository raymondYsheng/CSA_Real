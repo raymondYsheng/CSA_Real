{
 "cells": [
  {
   "cell_type": "markdown",
   "metadata": {},
   "source": [
    "---\n",
    "comments: true\n",
    "layout: post\n",
    "title: Java Hello\n",
    "---\n",
    "# Java Hello\n",
    "I was able to install Java Kernel"
   ]
  },
  {
   "cell_type": "code",
   "execution_count": 1,
   "metadata": {
    "vscode": {
     "languageId": "java"
    }
   },
   "outputs": [
    {
     "name": "stdout",
     "output_type": "stream",
     "text": [
      "Hello, my name is Alice and I am 20 years old.\n",
      "Hello, my name is Bobert and I am 20 years old.\n"
     ]
    }
   ],
   "source": [
    "public class Student { //Class, where the code is run (a template for creating objects structure and behavior of objects)\n",
    "    public static void main(String[] args) { //Main method, where the code is executed and calls other functions\n",
    "        Student student1 = new Student(\"Alice\", 20); //Create object using Student constructor\n",
    "\n",
    "        student1.introduce();\n",
    "        student1.changeName(\"Bobert\");\n",
    "        student1.introduce();\n",
    "    }\n",
    "\n",
    "    public String name; //instance variables\n",
    "    public int age;\n",
    "\n",
    "    public Student(String name, int age) { //Constructor with 2 parameters\n",
    "        this.name = name;\n",
    "        this.age = age;\n",
    "    }\n",
    "    public void changeName(String newName)\n",
    "    {\n",
    "        this.name = newName;\n",
    "    }\n",
    "\n",
    "    public void introduce() { //Function/Method that runs the following code wrapped in a class\n",
    "        System.out.println(\"Hello, my name is \" + name + \" and I am \" + age + \" years old.\");\n",
    "    }\n",
    "}\n",
    "Student.main(null);\n",
    "\n"
   ]
  },
  {
   "cell_type": "code",
   "execution_count": 11,
   "metadata": {
    "vscode": {
     "languageId": "java"
    }
   },
   "outputs": [
    {
     "name": "stdout",
     "output_type": "stream",
     "text": [
      "Hello\n"
     ]
    }
   ],
   "source": [
    "System.out.println(\"Hello\");"
   ]
  }
 ],
 "metadata": {
  "kernelspec": {
   "display_name": "Java",
   "language": "java",
   "name": "java"
  },
  "language_info": {
   "codemirror_mode": "java",
   "file_extension": ".jshell",
   "mimetype": "text/x-java-source",
   "name": "Java",
   "pygments_lexer": "java",
   "version": "18.0.2-ea+9-Ubuntu-222.04"
  }
 },
 "nbformat": 4,
 "nbformat_minor": 2
}
