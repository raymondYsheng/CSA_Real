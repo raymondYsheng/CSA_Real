{
 "cells": [
  {
   "cell_type": "markdown",
   "metadata": {},
   "source": [
    "---\n",
    "title: N@TM Reflection/Capture the Moment\n",
    "toc: true\n",
    "layout: post\n",
    "courses: { csp: {week: 23} }\n",
    "type: hacks\n",
    "comments: true\n",
    "---"
   ]
  },
  {
   "cell_type": "markdown",
   "metadata": {},
   "source": [
    "## Two Trimester Project\n",
    "\n",
    "During our presentation, we actively solicited feedback from our audience, utilizing Ishi and Ekam to gather insights from various sources including computer-based research. These insights provided valuable direction for refining our projects and improving existing features. Here are some key points that emerged, particularly relevant to my area of focus:\n",
    "\n",
    "- **Integrating Image Recognition:**\n",
    "- One of the observations made was that Image Recognition, as it stood, didn't align well with the theme of our \"Nighthawk Resources\" project. The suggestion was to integrate its functionality to be more statistics or classroom-oriented so that it directly supports statistical analysis or classroom activities, enhancing its relevance and utility within the project's context.\n",
    "\n",
    "- **Enhancing User Experience (UX) on the Frontend:**\n",
    "- Feedback highlighted that while our current frontend primarily focuses on functionality, there's room for improvement in terms of user experience (UX). Making the frontend more intuitive and user-friendly could significantly enhance the overall usability of our projects. In the future we might shift towards frontend design and development, alongside ensuring functionality and developing more and better features.\n",
    "\n",
    "- **Bug Fixing and Quality Assurance:**\n",
    "- It was noted that our QR code generator had some bugs, which were subsequently addressed, specifically, some of the links were returning 404 errors or some garbage value."
   ]
  },
  {
   "cell_type": "markdown",
   "metadata": {},
   "source": [
    "## Team Reflection\n",
    "**Glows:**\n",
    "- While they weren't teachers for the most part, they found our project interesting and thought it could help out with students and teachers. We also realized that we can expand this web framework to include clubs as well, which would help with school unity, but may have to have some regulation later.\n",
    "**Grows:**\n",
    "- We realized we need to focus a lot more on helping students and teachers with their work, rather than gearing it towards AP Stats specifically. Our idea for stats was because Mr. Jenkins was our primary source of feedback in the ideations tage, so we oriented a lot towards that, but if we really want to make \"Canvas but better\" we need to have more features outside of Stapplet.\n",
    "<br>\n",
    "<img src=\"https://github.com/raymondYsheng/CSA_Repo/assets/142441804/578de675-83ae-4367-8d1f-978e6b1656b1\" width=\"300\" height=\"200\">\n",
    "<img src=\"https://github.com/raymondYsheng/CSA_Repo/assets/142441804/8c3ab7d4-9c26-4fda-8faf-02ab9849c8f3\" width=\"300\" height=\"200\">\n",
    "<img src=\"https://github.com/raymondYsheng/CSA_Repo/assets/142441804/d8b5e349-469c-4c61-820a-b1217745e38b\" width=\"300\" height=\"200\">"
   ]
  },
  {
   "cell_type": "markdown",
   "metadata": {},
   "source": [
    "## Event\n",
    "Inside CS:\n",
    "<br>\n",
    "<img src=\"https://github.com/raymondYsheng/CSA_Repo/assets/142441804/8eaead71-b565-4151-b7b8-e09db716c574\" width=\"200\" height=\"300\">\n",
    "<br>\n",
    "This project was a game website with both a multiplayer and singleplayer function. I thought the game design was very cool, and the UI was very clean. I think they maybe could have more of a focus on the backend aspect of their project, since most of the project was frontend with image and map design. They did have a working JWT login and dashboard, which an associated score with each player so that they could create a leaderboard of sorts. I think they could make some of the games more educational if they wanted to implement it in a school setting.\n",
    "Outside CS: \n",
    "<br>\n",
    "<img src=\"https://github.com/raymondYsheng/CSA_Repo/assets/142441804/d5c4d745-67cf-4881-aee7-93925a91a850\" width=\"200\" height=\"300\">\n",
    "<br>\n",
    "This project was from Photography. I think their choice of focus was very pretty, and the background blur gave it a nice popping effect. I like how they didn't oversaturate the focus so that it looks natural but still enhances the flower."
   ]
  },
  {
   "cell_type": "markdown",
   "metadata": {},
   "source": []
  }
 ],
 "metadata": {
  "language_info": {
   "name": "python"
  }
 },
 "nbformat": 4,
 "nbformat_minor": 2
}
