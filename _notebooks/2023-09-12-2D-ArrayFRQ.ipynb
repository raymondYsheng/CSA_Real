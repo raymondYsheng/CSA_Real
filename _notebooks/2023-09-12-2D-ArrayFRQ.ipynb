{
 "cells": [
  {
   "cell_type": "markdown",
   "metadata": {},
   "source": [
    "---\n",
    "layout: post\n",
    "title: 2D Array FRQ (Question 4)\n",
    "courses: { csp: {week: 4} }\n",
    "type: hacks\n",
    "\n",
    "---\n",
    ">## 2D Array 2022 FRQ\n",
    ">>My answers for the fourth question in the 2022 FRQ"
   ]
  },
  {
   "cell_type": "markdown",
   "metadata": {},
   "source": [
    "> ## Part A\n",
    ">> (a) Write the repopulate method, which assigns a newly generated random value to each element of grid. Each value is computed to meet all of the following criteria, and all valid values must have an equal chance of being generated. • The value is between 1 and MAX, inclusive. • The value is divisible by 10. • The value is not divisible by 100. Complete the repopulate method."
   ]
  },
  {
   "cell_type": "code",
   "execution_count": null,
   "metadata": {},
   "outputs": [],
   "source": [
    "import java.util.*;\n",
    "\n",
    "public void repopulate() {\n",
    "    Random rand = new Random();\n",
    "    for (int i = 0; i < grid.length; i++)\n",
    "    {\n",
    "        for (int j = 0; j < grid[0].length; j++)\n",
    "        {\n",
    "            while (true)\n",
    "            {\n",
    "                int randNum = rand.nextInt(MAX) + 1;\n",
    "                if (randNum % 10 == 0 && randNum % 100 != 0)\n",
    "                {\n",
    "                    grid[i][j] = randNum;\n",
    "                    break;\n",
    "                }\n",
    "            }\n",
    "        }\n",
    "    }\n",
    "}"
   ]
  },
  {
   "cell_type": "markdown",
   "metadata": {},
   "source": [
    "> ## Part B\n",
    "> (b) Write the countIncreasingcols method, which returns the number of columns in grid that are in increasing order. A column is considered to be in increasing order if the element in each row after the first row is greater than or equal to the element in the previous row. A column with only one row is considered to be in increasing order. \n",
    "The following examples show the count Increasingcols return values for possible contents of grid. \n",
    "The return value for the following contents of grid is 1, since the first column is in increasing order but the second and third columns are not. \n",
    "\n",
    "| 10  | 50  | 40  |\n",
    "| 20  | 40  | 20  |\n",
    "| 30  | 50  | 30  |\n",
    "\n",
    ">The return value for the following contents of grid is 2, since the first and third columns are in increasing order but the second and fourth columns are not. \n",
    "\n",
    "|  10 | 540 | 440 | 440 |\n",
    "| 220 | 450 | 440 | 190 |\n",
    "\n",
    ">Complete the countincreasingCols method.\n"
   ]
  },
  {
   "cell_type": "code",
   "execution_count": null,
   "metadata": {},
   "outputs": [],
   "source": [
    "public int countIncreasingCols {\n",
    "    int ans = 0;\n",
    "    loop1: for (int i = 0; i < grid.length; i++)\n",
    "    {\n",
    "        for (int j = 0; j < grid[0].length - 1; j++)\n",
    "        {\n",
    "            if (grid[i][j] <= grid[i][j+1])\n",
    "            {\n",
    "                if (j == grid[0].length - 1)\n",
    "                {\n",
    "                    ans++;\n",
    "                }\n",
    "            }\n",
    "            else\n",
    "            {\n",
    "                continue loop1; \n",
    "            }\n",
    "        }\n",
    "    }\n",
    "    return ans;\n",
    "}"
   ]
  }
 ],
 "metadata": {
  "kernelspec": {
   "display_name": "Java",
   "language": "java",
   "name": "java"
  },
  "language_info": {
   "name": "java"
  },
  "orig_nbformat": 4
 },
 "nbformat": 4,
 "nbformat_minor": 2
}
