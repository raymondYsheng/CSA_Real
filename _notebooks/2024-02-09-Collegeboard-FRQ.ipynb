{
 "cells": [
  {
   "cell_type": "markdown",
   "metadata": {},
   "source": [
    "---\n",
    "title: Collegeboard FRQ Practice\n",
    "toc: true\n",
    "layout: post\n",
    "courses: { csp: {week: 22} }\n",
    "type: hacks\n",
    "---"
   ]
  },
  {
   "cell_type": "markdown",
   "metadata": {},
   "source": [
    "## Collegeboard FRQ Practice\n",
    "\n",
    "### Question 1:\n",
    "(a) Write a static method arraySum that calculates and returns the sum of the entries in a specified one-dimensional array. The following example shows an array arr1 and the value returned by a call to arraySum.\n",
    "\n",
    "(b) Write a static method rowSums that calculates the sums of each of the rows in a given two-dimensional array and returns these sums in a one-dimensional array. The method has one parameter, a two-dimensional array arr2D of int values. The array is in row-major order: arr2D [r] [c] is the entry at row r and column c. The method returns a one-dimensional array with one entry for each row of arr2D such that each entry is the sum of the corresponding row in arr2D. As a reminder, each row of a two-dimensional array is a one-dimensional array.\n",
    "\n",
    "(c) A two-dimensional array is diverse if no two of its rows have entries that sum to the same value. In the following examples, the array mat1 is diverse because each row sum is different, but the array mat2 is not diverse because the first and last rows have the same sum.\n",
    "Write a static method isDiverse that determines whether or not a given two-dimensional array is diverse. The method has one parameter: a two-dimensional array arr2D of int values. The method should return true if all the row sums in the given array are unique; otherwise, it should return false. In the arrays shown above, the call isDiverse (mat1) returns true and the call isDiverse(mat2) returns false."
   ]
  },
  {
   "cell_type": "markdown",
   "metadata": {},
   "source": [
    "**Key Algorithm**: 2D Arrays + Arrays"
   ]
  },
  {
   "cell_type": "code",
   "execution_count": 26,
   "metadata": {},
   "outputs": [
    {
     "name": "stdout",
     "output_type": "stream",
     "text": [
      "16\n",
      "14 35 36 14 \n",
      "false\n"
     ]
    }
   ],
   "source": [
    "public class Main {\n",
    "    public static int arraySum (int[] arr)\n",
    "    {\n",
    "        int sum = 0;\n",
    "        for (int i = 0; i < arr.length; i++)\n",
    "        {\n",
    "            sum += arr[i];\n",
    "        }\n",
    "        return sum;\n",
    "    }\n",
    "\n",
    "    public static int[] rowSums(int[][] arr2D) {\n",
    "        int[] sums = new int[arr2D.length];\n",
    "        for (int i = 0; i < arr2D.length; i++) {\n",
    "            int sum = 0;\n",
    "            for (int j = 0; j < arr2D[i].length; j++) {\n",
    "                sum += arr2D[i][j];\n",
    "            }\n",
    "            sums[i] = sum;\n",
    "        }\n",
    "        return sums;\n",
    "    }\n",
    "    \n",
    "    \n",
    "    public static boolean isDiverse(int[][] arr2D)\n",
    "    {\n",
    "        int[] sums = rowSums(arr2D);\n",
    "        HashSet<Integer> set = new HashSet<>();\n",
    "        for (int num : sums) {\n",
    "            if (set.contains(num)) {\n",
    "                return false;\n",
    "            }\n",
    "            set.add(num);\n",
    "        }\n",
    "\n",
    "        return true;\n",
    "    }\n",
    "\n",
    "    public static void main(String[] args)\n",
    "    {\n",
    "        int[] arr2 = {1, 3, 2, 7, 3};\n",
    "        System.out.println(arraySum(arr2));\n",
    "        int[][] arr1 = {\n",
    "            {1, 1, 5, 3, 4},\n",
    "            {12, 7, 6, 1, 9},\n",
    "            {8, 11, 10, 2, 5},\n",
    "            {3, 2, 3, 0, 6}\n",
    "        };        \n",
    "        int[] sums = rowSums(arr1);\n",
    "        for (int i = 0; i < sums.length; i++)\n",
    "        {\n",
    "            System.out.print(sums[i] + \" \");\n",
    "        }\n",
    "        System.out.println();\n",
    "        System.out.println(isDiverse(arr1));\n",
    "    }\n",
    "}\n",
    "\n",
    "Main.main(null);"
   ]
  },
  {
   "cell_type": "markdown",
   "metadata": {},
   "source": [
    "### Question 2:\n",
    "Consider a guessing game in which a player tries to guess a hidden word. The hidden word contains only capital letters and has a length known to the player. A guess contains only capital letters and has the same length as the hidden word.\n",
    "\n",
    "After a guess is made, the player is given a hint that is based on a comparison between the hidden word and the guess. Each position in the hint contains a character that corresponds to the letter in the same position in the guess. The following rules determine the characters that appear in the hint. <br>\n",
    "<img src=\"https://github.com/raymondYsheng/CSA_Repo/assets/142441804/c9a3871e-7249-482a-a831-8ae982652ea5\">\n",
    "The HiddenWord class will be used to represent the hidden word in the game. The hidden word is passed to the constructor. The class contains a method, getHint, that takes a guess and produces a hint.\n",
    "\n",
    "For example, suppose the variable puzzle is declared as follows.\n",
    "\n",
    "HiddenWord puzzle = new HiddenWord(\"HARPS\");\n",
    "\n",
    "The following table shows several guesses and the hints that would be produced. <br>\n",
    "<img src=\"https://github.com/raymondYsheng/CSA_Repo/assets/142441804/2914c8e2-ee54-4a5a-9a38-f9e9473e48e0\">\n",
    "\n",
    "Write the complete HiddenWord class, including any necessary instance variables, its constructor, and the method, getHint, described above. You may assume that the length of the guess is the same as the length of the hidden word.\n",
    "\n",
    "**Key Algorithm: Classes**"
   ]
  },
  {
   "cell_type": "code",
   "execution_count": null,
   "metadata": {},
   "outputs": [],
   "source": [
    "public class HiddenWord {\n",
    "    private String word;\n",
    "    public HiddenWord (String word)\n",
    "    {\n",
    "        this.word = word;\n",
    "    }\n",
    "    public String getHint (String guess)\n",
    "    {\n",
    "        String result =\"\";\n",
    "        for (int i = 0; i < guess.length(); i++)\n",
    "        {\n",
    "            if (guess.charAt(i) == word.charAt(i))\n",
    "            {\n",
    "                result += guess.charAt(i);\n",
    "            }\n",
    "            else if (word.indexOf(guess.charAt(i)) != -1)\n",
    "            {\n",
    "                result += \"+\";\n",
    "            }\n",
    "            else\n",
    "            {\n",
    "                result += \"*\";\n",
    "            }\n",
    "        }\n",
    "        return result;\n",
    "    }\n",
    "    public static void main(String[] args)\n",
    "    {\n",
    "        HiddenWord puzzle = new HiddenWord(\"HARPS\");\n",
    "        System.out.println(puzzle.getHint(\"AAAAA\"));\n",
    "        System.out.println(puzzle.getHint(\"HELLO\"));\n",
    "        System.out.println(puzzle.getHint(\"HEART\"));\n",
    "        System.out.println(puzzle.getHint(\"HARMS\"));\n",
    "        System.out.println(puzzle.getHint(\"HARPS\"));\n",
    "    }\n",
    "}\n",
    "\n",
    "HiddenWord.main(null);"
   ]
  }
 ],
 "metadata": {
  "kernelspec": {
   "display_name": "Java",
   "language": "java",
   "name": "java"
  },
  "language_info": {
   "codemirror_mode": "java",
   "file_extension": ".jshell",
   "mimetype": "text/x-java-source",
   "name": "java",
   "pygments_lexer": "java",
   "version": "18.0.2-ea+9-Ubuntu-222.04"
  }
 },
 "nbformat": 4,
 "nbformat_minor": 2
}
