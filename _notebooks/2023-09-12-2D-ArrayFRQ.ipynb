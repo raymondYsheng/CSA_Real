{
 "cells": [
  {
   "cell_type": "markdown",
   "metadata": {},
   "source": [
    "---\n",
    "layout: post\n",
    "title: 2D Array FRQ (Question 4)\n",
    "courses: { csp: {week: 4} }\n",
    "type: hacks\n",
    "description: My approach and corrections to the 2022 2D Array FRQ\n",
    "\n",
    "---\n",
    ">## 2D Array 2022 FRQ\n",
    ">>My answers for the fourth question in the 2022 FRQ"
   ]
  },
  {
   "cell_type": "markdown",
   "metadata": {},
   "source": [
    "> ## Part A\n",
    "> (a) Write the repopulate method, which assigns a newly generated random value to each element of grid. Each value is computed to meet all of the following criteria, and all valid values must have an equal chance of being generated. • The value is between 1 and MAX, inclusive. • The value is divisible by 10. • The value is not divisible by 100. Complete the repopulate method."
   ]
  },
  {
   "cell_type": "code",
   "execution_count": null,
   "metadata": {},
   "outputs": [],
   "source": [
    "public void repopulate()\n",
    "{\n",
    "    Random rand = new Random();\n",
    "    for (int row = 0; row < grid.length; row++)\n",
    "    {\n",
    "        for (int col = 0; col < grid[0].length; col++)\n",
    "        {\n",
    "            while (true)\n",
    "            {\n",
    "                int randNum = rand.nextInt(MAX) + 1; \n",
    "                if (randNum % 10 == 0 && randNum % 100 != 0)\n",
    "                {\n",
    "                    grid[row][col] = randNum;\n",
    "                    break;\n",
    "                }\n",
    "            }\n",
    "        }\n",
    "    }\n",
    "}"
   ]
  },
  {
   "cell_type": "markdown",
   "metadata": {},
   "source": [
    "The repopulate method scans throughout the array and generates a random integer at each index. Then it checks if the integer is divisible by 10 and not divisible by 100, and if it satisfies this condition, the loop moves on to the next index."
   ]
  },
  {
   "cell_type": "markdown",
   "metadata": {},
   "source": [
    "> ## Part B\n",
    "> (b) Write the countIncreasingcols method, which returns the number of columns in grid that are in increasing order. A column is considered to be in increasing order if the element in each row after the first row is greater than or equal to the element in the previous row. A column with only one row is considered to be in increasing order. \n",
    "The following examples show the count Increasingcols return values for possible contents of grid. \n",
    "The return value for the following contents of grid is 1, since the first column is in increasing order but the second and third columns are not. \n",
    "\n",
    "| 10  | 50  | 40  |\n",
    "| 20  | 40  | 20  |\n",
    "| 30  | 50  | 30  |\n",
    "\n",
    ">The return value for the following contents of grid is 2, since the first and third columns are in increasing order but the second and fourth columns are not. \n",
    "\n",
    "|  10 | 540 | 440 | 440 |\n",
    "| 220 | 450 | 440 | 190 |\n",
    "\n",
    ">Complete the countincreasingCols method.\n"
   ]
  },
  {
   "cell_type": "code",
   "execution_count": 1,
   "metadata": {},
   "outputs": [],
   "source": [
    "public int countIncreasingCols() { //Part B\n",
    "    int ans = 0;\n",
    "    for (int col = 0; col < grid[0].length; col++)\n",
    "    {\n",
    "        boolean increasing = true;\n",
    "        for (int row = 1; row < grid.length; row++) \n",
    "        {\n",
    "            if (grid[row][col] < grid[row-1][col]) \n",
    "            {\n",
    "                increasing = false;\n",
    "                break;\n",
    "            }\n",
    "        }\n",
    "        if (increasing)\n",
    "        {\n",
    "            ans++;\n",
    "        }\n",
    "    }\n",
    "    return ans;\n",
    "}"
   ]
  },
  {
   "cell_type": "markdown",
   "metadata": {},
   "source": [
    "In the countIncreasingCols, row scan through the columns first (grid[0].length yields the total number of columns) and then scan through each row in each column (grid.length yields the total number of rows). row set the increasing boolean as a flag to ensure that, if the column is not in increasing order, the answer is not increased. Then row checked if every element in the column is greater than or equal to the previous element to see if it is increasing order, changing the increasing boolean to false if it is not. Then row output the number of increasing columns.  "
   ]
  },
  {
   "cell_type": "markdown",
   "metadata": {},
   "source": [
    "## Fully Working Answer"
   ]
  },
  {
   "cell_type": "code",
   "execution_count": 1,
   "metadata": {},
   "outputs": [
    {
     "name": "stdout",
     "output_type": "stream",
     "text": [
      "Enter the number of rows: Enter the number of columns: Enter the maximum value for random integers: Generated Grid:\n",
      "70 3060 3120 4840 \n",
      "760 4970 3750 3720 \n",
      "4390 1840 3350 4310 \n",
      "Print the array backwards\n",
      "4310 3350 1840 4390 \n",
      "3720 3750 4970 760 \n",
      "4840 3120 3060 70 \n",
      "Number of Increasing Columns: 1\n"
     ]
    }
   ],
   "source": [
    "import java.util.*;\n",
    "\n",
    "public class Data {\n",
    "    private int[][] grid;\n",
    "    private int MAX;\n",
    "\n",
    "    public Data(int rows, int cols, int max) {\n",
    "        this.grid = new int[rows][cols];\n",
    "        this.MAX = max;\n",
    "    }\n",
    "    public void repopulate() { // Part A\n",
    "        Random rand = new Random();\n",
    "        for (int row = 0; row < grid.length; row++) {\n",
    "            for (int col = 0; col < grid[0].length; col++) // 1 point for traversing the grid\n",
    "            {\n",
    "                while (true) {\n",
    "                    int randNum = rand.nextInt(MAX) + 1; // 1 point for getting rand\n",
    "                    if (randNum % 10 == 0 && randNum % 100 != 0) // 1 point for ensuring /10 and /- 100\n",
    "                    {\n",
    "                        grid[row][col] = randNum; // 1 point for assigning the value\n",
    "                        break;\n",
    "                    }\n",
    "                }\n",
    "            }\n",
    "        }\n",
    "    }\n",
    "\n",
    "    public void displayGrid() {\n",
    "        for (int row = 0; row < grid.length; row++) {\n",
    "            for (int col = 0; col < grid[0].length; col++) {\n",
    "                System.out.print(grid[row][col] + \" \");\n",
    "            }\n",
    "            System.out.println();\n",
    "        }\n",
    "\n",
    "        System.out.println(\"Print the array backwards\");\n",
    "\n",
    "        for (int row = grid.length - 1; row >= 0; row--) {\n",
    "            for (int col = grid[row].length - 1; col >= 0; col--) {\n",
    "                System.out.print(grid[row][col] + \" \");\n",
    "            }\n",
    "            System.out.println();\n",
    "        }\n",
    "    }\n",
    "\n",
    "    public int countIncreasingCols() { // Part B\n",
    "        int ans = 0;\n",
    "        for (int col = 0; col < grid[0].length; col++) {\n",
    "            boolean increasing = true;\n",
    "            for (int row = 1; row < grid.length; row++) // 1 point for going thru columns\n",
    "            {\n",
    "                if (grid[row][col] < grid[row - 1][col]) // 1 point for comparing elements in the grid, 1 point for detecting if the column is increasing\n",
    "                {\n",
    "                    increasing = false;\n",
    "                    break;\n",
    "                }\n",
    "            }\n",
    "            if (increasing) {\n",
    "                ans++; // 1 point for counting all columns that are increasing\n",
    "            }\n",
    "        }\n",
    "        return ans; // 1 point for returning the answer\n",
    "    }\n",
    "\n",
    "    public static void main(String[] args) {\n",
    "        Scanner scanner = new Scanner(System.in);\n",
    "        \n",
    "        System.out.print(\"Enter the number of rows: \");\n",
    "        int rows = scanner.nextInt();\n",
    "        \n",
    "        System.out.print(\"Enter the number of columns: \");\n",
    "        int cols = scanner.nextInt();\n",
    "        \n",
    "        System.out.print(\"Enter the maximum value for random integers: \");\n",
    "        int max = scanner.nextInt();\n",
    "        \n",
    "        Data data = new Data(rows, cols, max);\n",
    "        data.repopulate();\n",
    "        \n",
    "        System.out.println(\"Generated Grid:\");\n",
    "        data.displayGrid();\n",
    "        \n",
    "        int increasingCols = data.countIncreasingCols();\n",
    "        System.out.println(\"Number of Increasing Columns: \" + increasingCols);\n",
    "    }\n",
    "}\n",
    "\n",
    "Data.main(null);"
   ]
  },
  {
   "cell_type": "markdown",
   "metadata": {},
   "source": [
    "> ## Improvements\n",
    ">>For part A, row should have changed the row and col in the loops to be named row and col because it makes it easier to read and understand in the array. The answers also used the Math.random object instead of the Random class. row think my choice was better in this case because the Random class let me directly create a random integer instead of the Math.random making a double. row would have gotten a 4/4 on this part.\n",
    "\n",
    ">> For part B, instead of breaking or continuing a loop and creating a label, row could have added a boolean that determines whether the elements in the column are already ordered. row also should have labelled the loop variables \"column\" and \"row\" instead of row and col so that it is easier to understand and work with. If row had done this row wouldn't have made the mistake row did, where row added the increment instead of subtracting it, which would have gotten the previous value to compare with the current value. row would have gotten a 4/5 on this part."
   ]
  },
  {
   "cell_type": "markdown",
   "metadata": {},
   "source": [
    "# Crossover Notes\n",
    "## A-REEL\n",
    "- 2022 Classes:\n",
    "    - Subclass textbook (extends Book)\n",
    "    - Call `super` function: get method from parent class eg: super.getBookInfo()\n",
    "- 2023 Arrays/ArrayLists:\n",
    "    - Records highest temp from each day\n",
    "    - Modify arraylist to suit parameters\n",
    "    - Iterate backwords thru the arraylist bc removing from the arraylist causes size change\n",
    "- Aliya\n",
    "    - Check for candy at each element\n",
    "    - Good diagrams\n",
    "    - Detailed explanation of removeNextByFlavor (based on specific flavor)\n",
    "- Raunak\n",
    "    - Range of consecutive ints\n",
    "    - Contains for if given number in group\n",
    "    - Running code/expected output\n",
    "## VACTQ\n",
    "- Vinay\n",
    "    - Running code\n",
    "    - WordMatch with ScoreGuess based on frequency\n",
    "- Haoxuan\n",
    "    - CombinedTable class\n",
    "    - Running code\n",
    "    - Methods to accomplish seating and desirability\n",
    "- Colin\n",
    "    - Creates getters and setters\n",
    "    - No running code\n",
    "    - Good comments and documentation\n",
    "    - Images did not work\n",
    "- Aaron\n",
    "    - Resize 2D arr based on number of 0s\n",
    "    - No running code"
   ]
  }
 ],
 "metadata": {
  "kernelspec": {
   "display_name": "Java",
   "language": "java",
   "name": "java"
  },
  "language_info": {
   "codemirror_mode": "java",
   "file_extension": ".jshell",
   "mimetype": "text/x-java-source",
   "name": "java",
   "pygments_lexer": "java",
   "version": "18.0.2-ea+9-Ubuntu-222.04"
  },
  "orig_nbformat": 4
 },
 "nbformat": 4,
 "nbformat_minor": 2
}
