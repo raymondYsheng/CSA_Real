{
 "cells": [
  {
   "cell_type": "code",
   "execution_count": 1,
   "metadata": {
    "vscode": {
     "languageId": "shellscript"
    }
   },
   "outputs": [
    {
     "name": "stdout",
     "output_type": "stream",
     "text": [
      "Bash is installed.\n",
      "VSCode is installed.\n",
      "Jupyter Notebook is installed.\n",
      "WSL is not installed.\n"
     ]
    }
   ],
   "source": [
    "#!/bin/bash\n",
    "\n",
    "# Check if Bash is installed\n",
    "if command -v bash &>/dev/null; then\n",
    "    echo \"Bash is installed.\"\n",
    "else\n",
    "    echo \"Bash is not installed.\"\n",
    "fi\n",
    "\n",
    "# Check if VSCode is installed\n",
    "if command -v code &>/dev/null; then\n",
    "    echo \"VSCode is installed.\"\n",
    "else\n",
    "    echo \"VSCode is not installed.\"\n",
    "fi\n",
    "\n",
    "# Check if Jupyter Notebook is installed\n",
    "if command -v jupyter &>/dev/null; then\n",
    "    echo \"Jupyter Notebook is installed.\"\n",
    "else\n",
    "    echo \"Jupyter Notebook is not installed.\"\n",
    "fi\n",
    "\n",
    "# Check if WSL is installed\n",
    "if command -v wsl &>/dev/null; then\n",
    "    echo \"WSL is installed.\"\n",
    "else\n",
    "    echo \"WSL is not installed.\"\n",
    "fi\n"
   ]
  }
 ],
 "metadata": {
  "kernelspec": {
   "display_name": "Bash",
   "language": "bash",
   "name": "bash"
  },
  "language_info": {
   "codemirror_mode": "shell",
   "file_extension": ".sh",
   "mimetype": "text/x-sh",
   "name": "bash"
  },
  "orig_nbformat": 4
 },
 "nbformat": 4,
 "nbformat_minor": 2
}
