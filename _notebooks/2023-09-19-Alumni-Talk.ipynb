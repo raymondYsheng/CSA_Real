{
 "cells": [
  {
   "cell_type": "markdown",
   "metadata": {},
   "source": [
    "---\n",
    "layout: post\n",
    "title: Extra Credit Alumni Talk\n",
    "courses: { csp: {week: 5} }\n",
    "type: tangibles\n",
    "\n",
    "---\n",
    ">## Extra Credit Alumni Talk\n",
    ">>"
   ]
  }
 ],
 "metadata": {
  "language_info": {
   "name": "python"
  },
  "orig_nbformat": 4
 },
 "nbformat": 4,
 "nbformat_minor": 2
}
