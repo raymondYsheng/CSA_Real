{
 "cells": [
  {
   "cell_type": "markdown",
   "metadata": {},
   "source": [
    "---\n",
    "comments: true\n",
    "title: Key Indicators Review\n",
    "type: hacks\n",
    "toc: true\n",
    "courses: { csp: {week: 20} }\n",
    "---"
   ]
  },
  {
   "cell_type": "markdown",
   "metadata": {},
   "source": [
    "For individual reviews. Be prepared to talk about the following... Blog showing your and key assets and projects College Board prep and assets Blog timebox / Key Issues and other organization showing how you know where you have been and where you are going GitHub commits for first half of the year Something you are passionate about in the upcoming project"
   ]
  },
  {
   "cell_type": "markdown",
   "metadata": {},
   "source": [
    "## Individual Ticket\n",
    "- [Individual Ticket](https://github.com/nighthawkcoders/teacher_portfolio/issues/91#issuecomment-1885649990)\n",
    "\n",
    "## Team Ticket\n",
    "- [Team Teaching](https://github.com/nighthawkcoders/teacher_portfolio/issues/93#issuecomment-1883690180)\n",
    "- [Spreadsheet for Grades](https://docs.google.com/spreadsheets/d/1kqVZiCARXp11RVbpnoZ2Qo9Hq0mkZvmDkygIg1x34ZQ/edit?usp=sharing)"
   ]
  },
  {
   "cell_type": "markdown",
   "metadata": {},
   "source": [
    "## Reflection\n",
    "Throughout my experience in the student lessons, I added many useful tools into my toolkit. Namely, as a historically primary backend worker, the JWT lesson and the Thymeleaf research that I did were very useful to me. However, since I want to be well-rounded, I also found SASS very helpful for boosting UX, and jQuery's utility to simplify Javascript that links the backend and frontend was very useful. "
   ]
  },
  {
   "cell_type": "markdown",
   "metadata": {},
   "source": [
    "## Key Issues and Commits\n",
    "\n",
    "### First Project: Whack-A-Mole\n",
    "This was my first project for CSA and in this class format. I was working with a new coding system and it was an opportunity to help me get acquainted with all the tools in CSA. I used it to brush up on my web development.\n",
    "[Partially Working Demo](https://projectcsa.github.io/Whack-A-Mole/)\n",
    "\n",
    "### Spacebook\n",
    "For my final project from last year, we worked together to create diagrams for our project structure. \n",
    "- [Spacebook Ideation Diagram](https://github.com/Cosmic-Carnage/Issues/issues/17)\n",
    "We also all worked on our overall project. I was the primary backend developer, and I worked on the structure for the Leaderboard API, as well as the file upload code. At this point I was really easing into the spring and it took me a while to get used to the structure behind APIs. In this project, my most proud accomplishment was bringing in HashMaps, which was the data strucutre that we primarily used later in the project and gave us all some experience with the structure before the student lesson this year.\n",
    "- [Spacebook](https://cosmic.nighthawkcodingsociety.com/)\n",
    "\n",
    "### CryptoCrunch\n",
    "I was responsible for the majority of the backend development in our Mini-Project this trimester. In doing so, I ran into numerous issues while trying to implement sorting with something we were passionate about: cryptocurrency. I documented some of my struggles and some of the breakthroughs that I had. In it, I created the bulk of the sorting methods and the ideation, and I was most proud of using switch cases when deciding with method to call from the api.\n",
    "- [Problem Struggles for CryptoCrunch](https://github.com/divorced-coders/NewBooksBackend/issues/2)\n",
    "Generally, this was probably my least favorite project because I don't think we really explored enough of what we were looking into and had to focus on finding valid crypto APIs rather than learning about the nature of cryptocurrency.\n"
   ]
  },
  {
   "cell_type": "markdown",
   "metadata": {},
   "source": [
    "## College Board MCQ\n",
    "\n",
    "### College Board MCQ 1\n",
    "[Link to blog](https://raymondysheng.github.io/CSA_Repo//2023/11/01/Individual-Review_IPYNB_2_.html)\n",
    "\n",
    "### College Board MCQ 2\n",
    "[Link to blog](https://raymondysheng.github.io/CSA_Repo//2023/12/18/2015-Practice-Exam_IPYNB_2_.html)"
   ]
  },
  {
   "cell_type": "markdown",
   "metadata": {},
   "source": [
    "## Timebox\n",
    "My [timebox](https://raymondysheng.github.io/CSA_Repo/csp) encapsulates all my personal blogs documenting my work from this year."
   ]
  },
  {
   "cell_type": "markdown",
   "metadata": {},
   "source": [
    "## Github Analytics \n",
    "<img src='https://github.com/raymondYsheng/CSA_Repo/assets/142441804/66958b5b-4663-4810-8f44-f06b79b6c23c'>\n",
    "\n",
    "- Key Commits\n",
    "    - [Spacebook File Upload Using Bytes](https://github.com/Cosmic-Carnage/cosmic_backend_final/commit/a7e13d8d1b692a0df8205d4165f2336b5412dfe9)\n",
    "    - [Creating HashMap for Project Storage](https://github.com/Cosmic-Carnage/cosmic_backend_final/commit/82eac219135675cdf0155e8f623ef01a04489005)\n",
    "    - [CyptoCrunch Working with the API Limiting](https://github.com/divorced-coders/NewBooksBackend/commit/8700d3d327efbfbe56f01ca1a482f2543e006741)\n",
    "    - [Adding Inheritance and Abstraction](https://github.com/divorced-coders/NewBooksBackend/commit/21f8e17d33a349955327d2f6d4801535076fcd7f)"
   ]
  },
  {
   "cell_type": "markdown",
   "metadata": {},
   "source": [
    "## Current Project\n",
    "- We met during lunch to discuss ideation and how to move forward in our project, and I suggested the idea of class codes that would make assigning students to teachers, which was built on by Ishi with her QR codes idea.\n",
    "[Meeting Notes](https://github.com/John-sCC/jcc_frontend/issues/4)\n",
    "\n",
    "- We interviewed teachers and asked what tools they believed would be beneficial to their teaching.\n",
    "[Blog Post](https://john-scc.github.io/jcc_frontend/2023/12/18/teachersurvey.html)\n",
    "\n",
    "- We ultimately decided to have the two period groups work on different functions for the same toolkit, with our period's focus being on remaking a statistics tool.\n",
    "[Current Tool](https://www.stapplet.com/)\n",
    "\n",
    "\n",
    "## Personal Note\n",
    "- I am excited to be able to work on and create something that could have genuine impact in the classroom. Additionally, I think some of our ideas (such as image recognition) would be difficult to implement but rewarding and give a lot of learning opportunities."
   ]
  }
 ],
 "metadata": {
  "language_info": {
   "name": "python"
  }
 },
 "nbformat": 4,
 "nbformat_minor": 2
}
