{
 "cells": [
  {
   "cell_type": "markdown",
   "metadata": {},
   "source": [
    "---\n",
    "toc: true\n",
    "comments: true\n",
    "title: Workshop 1 Hacks\n",
    "courses: { csp: {week: 25} }\n",
    "type: hacks\n",
    "---"
   ]
  },
  {
   "cell_type": "markdown",
   "metadata": {},
   "source": [
    "# Workshop 1 Hacks"
   ]
  },
  {
   "cell_type": "markdown",
   "metadata": {},
   "source": [
    "## FRQ 2: Iteration over 2D arrays (Unit 4)\n",
    "\n",
    "Situation: You are developing a game where you need to track player scores on a 2D grid representing levels and attempts.\n",
    "\n",
    "(a) Explain the concept of iteration over a 2D array in Java. Provide an example scenario where iterating over a 2D array is useful in a programming task.\n",
    "<br>\n",
    "In Java, iterating over a 2D array involves traversing through each element of the array typically requires the use of nested loops, one for iterating over rows and another for iterating over columns. The first for loop in the format `for (int i = 0; i < array2D.length; i++)` iterates through all the rows whereas the nested loop `for (int j = 0; j < array2D[i].length; j++)` iterates through all the elements in that row (ie the columns).\n",
    "<br>\n",
    "(b) Code:\n",
    "\n",
    "You need to implement a method calculateTotalScore that takes a 2D array scores of integers representing player scores and returns the sum of all the elements in the array. Write the method signature and the method implementation. Include comments to explain your code."
   ]
  },
  {
   "cell_type": "code",
   "execution_count": 2,
   "metadata": {},
   "outputs": [
    {
     "name": "stdout",
     "output_type": "stream",
     "text": [
      "36\n"
     ]
    }
   ],
   "source": [
    "public class Main {\n",
    "    public static int calculateTotalScore (int[][] scores) {\n",
    "        int sum = 0; // keep track of the running total of the sum\n",
    "        for (int i = 0; i < scores.length; i++)\n",
    "        {\n",
    "            for (int j = 0; j < scores[i].length; j++)\n",
    "            {\n",
    "                sum += scores[i][j]; //iterate through each element and add it to the sum\n",
    "            }\n",
    "        }\n",
    "        return sum;\n",
    "    }\n",
    "    public static void main(String[] args) {\n",
    "        int[][] scores = { //test array\n",
    "            {1, 2, 3},\n",
    "            {3, 4, 5},\n",
    "            {5, 6, 7}\n",
    "        };\n",
    "        System.out.println(calculateTotalScore(scores));\n",
    "    }\n",
    "}\n",
    "Main.main(null);"
   ]
  },
  {
   "cell_type": "markdown",
   "metadata": {},
   "source": [
    "## FRQ 4: Math Class (Unit 2)\n",
    "\n",
    "Situation: You are developing a scientific calculator application where users need to perform various mathematical operations.\n",
    "\n",
    "(a) Discuss the purpose and utility of the Math class in Java programming. Provide examples of at least three methods provided by the Math class and explain their usage.\n",
    "<br>\n",
    "To do math functions.\n",
    "<br> Math.random gives a random float to get a random value\n",
    "<br> Math.pow raises a value to a power\n",
    "<br> Math.min finds the minimum of two numbers\n",
    "\n",
    "(b) Code:\n",
    "\n",
    "You need to implement a method calculateSquareRoot that takes a double number as input and returns its square root using the Math class. Write the method signature and the method implementation. Include comments to explain your code."
   ]
  },
  {
   "cell_type": "code",
   "execution_count": 4,
   "metadata": {},
   "outputs": [
    {
     "name": "stdout",
     "output_type": "stream",
     "text": [
      "2.3238330404742937\n"
     ]
    }
   ],
   "source": [
    "import java.lang.Math.*;\n",
    "public class Main {\n",
    "    public static double calculateSquareRoot(double root) {\n",
    "        return Math.sqrt(root); //square root the number\n",
    "    }\n",
    "    public static void main (String[] args) {\n",
    "        System.out.println(calculateSquareRoot(5.4002));\n",
    "    }\n",
    "}\n",
    "Main.main(null);"
   ]
  }
 ],
 "metadata": {
  "kernelspec": {
   "display_name": "Java",
   "language": "java",
   "name": "java"
  },
  "language_info": {
   "codemirror_mode": "java",
   "file_extension": ".jshell",
   "mimetype": "text/x-java-source",
   "name": "java",
   "pygments_lexer": "java",
   "version": "18.0.2-ea+9-Ubuntu-222.04"
  }
 },
 "nbformat": 4,
 "nbformat_minor": 2
}
