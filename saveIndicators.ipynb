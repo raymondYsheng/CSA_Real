{
 "cells": [
  {
   "cell_type": "markdown",
   "metadata": {},
   "source": [
    "|                    | Score, Grading Verification | Runtime          | Extras                | Key Indicators: Blog, GitHub File(s) and Key Commits |\n",
    "| ------------------ | --------------------------- | ---------------- | -------------------   | ---------------------------------------------------- |\n",
    "| SASS Hacks         | 1.82/2                      |(SASS)[https://raymondysheng.github.io/CSA_Repo//2023/12/05/P3M-SASSFundamentals_IPYNB_2_.html] |One key learning I experienced during my SASS (Software as a Service) student lessons revolved around the importance of user-centric design and feedback incorporation in project development. Throughout the course, I learned that creating successful software is not just about coding and functionality but also about understanding the end-users and adapting the product to meet their needs effectively.| [Commits](https://github.com/raymondYsheng/CSA_Repo/commit/481f4b3f0f404b2ecf95661867ce01bc00de098d)\n",
    "| jQuery Hacks       | 1.8/2                       |(jQuery)[https://raymondysheng.github.io/CSA_Repo//2023/12/07/UX_jQuery_CRUD_lesson_IPYNB_2_.html]|During my journey with jQuery in the student lessons, a lightbulb moment for me was realizing how adept jQuery is at handling asynchronous operations, enabling dynamic content updates without the need for a complete page reload. This particular feature proved to be a game-changer, significantly contributing to the creation of a more seamless and engaging user interface. Looking ahead, I'm eager to weave jQuery into the fabric of my upcoming web development projects, tapping into its efficiency and adaptability. The ease with which jQuery allows for DOM manipulation and the finesse it brings to handling asynchronous operations are bound to elevate the interactivity and responsiveness of the applications I dive into.|[Commits](https://github.com/raymondYsheng/CSA_Repo/commit/481f4b3f0f404b2ecf95661867ce01bc00de098d)\n",
    "| Thymeleaf Hacks    | 2/2                         |(Lesson)[https://nighthawkcoders.github.io/teacher_portfolio//2023/12/12/P3_student_Thymeleaf_IPYNB_2_.html]|The real game-changer, as the lesson highlighted, is Thymeleaf's knack for simplifying complex logic within templates. The use of Thymeleaf attributes for iteration and conditional rendering felt like unlocking a hidden treasure. It made the once intricate task of handling dynamic content within HTML surprisingly intuitive, paving the way for cleaner and more readable code.|[Backend](https://github.com/divorced-coders/grouplesson_backend/commit/4078026d1d2953963fc42f1adeb0484780fee61f)\n",
    "| SQL, Hashmap Hacks | 1.7/2                       |(Hashmap)[https://raymondysheng.github.io/CSA_Repo//2023/12/18/hashlesson_IPYNB_2_.html]                  |                       |[Commits](https://github.com/raymondYsheng/CSA_Repo/commit/0bb22e348f247f1a7062ea9c525943f33b9c0335)\n",
    "| JWT Hacks          | 1.86/2                      |(JWT)[https://raymondysheng.github.io/CSA_Repo//2023/12/19/JWTStudent_IPYNB_2_.html]                  |                       |\n",
    "| CORS Hacks         | N/A                         | N/A              | N/A                   |\n",
    "| CB Quiz            | 1.9/2 + 36/39               |(CB Quiz)[https://raymondysheng.github.io/CSA_Repo//2023/12/18/2015-Practice-Exam_IPYNB_2_.html]                  |                       |[Commits](https://github.com/raymondYsheng/CSA_Repo/commit/7a3070b53f81c0a72dfe325d3b6e7c40ab756d26)\n",
    "| Totals             | Median Score: 1.8           | Number Complete: | Extra Effort Count: 3 | Key Commit Count:                                    |"
   ]
  },
  {
   "cell_type": "markdown",
   "metadata": {},
   "source": []
  }
 ],
 "metadata": {
  "language_info": {
   "name": "python"
  }
 },
 "nbformat": 4,
 "nbformat_minor": 2
}
