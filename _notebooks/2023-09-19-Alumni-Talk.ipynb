{
 "cells": [
  {
   "cell_type": "markdown",
   "metadata": {},
   "source": [
    "---\n",
    "layout: post\n",
    "title: Extra Credit Alumni Talk\n",
    "courses: { csp: {week: 5} }\n",
    "type: tangibles\n",
    "\n",
    "---\n",
    "## Extra Credit Alumni Talk"
   ]
  },
  {
   "cell_type": "markdown",
   "metadata": {},
   "source": [
    "## Takeaways\n",
    "College App Process:\n",
    "* CS is lottery at UCSD, take lottery into consideration\n",
    "* Do as much as possible (based on chance)\n",
    "* CS difficult to transfer into (look into less competitive alts if not necessarily just CS)\n",
    "    * Specific for college doesn't matter too much for CS, math, physics, etc.\n",
    "* Recommended EC or activities:\n",
    "    * Teaching position\n",
    "* Internships/Jobs:\n",
    "    * Build personal project to boost resume\n",
    "        * Personal website\n",
    "        * Have something tangible to show\n",
    "    * Find company you want to intern at and redesign/improve smth they alr have\n",
    "        * Detailed Readme\n",
    "        * Doesn't need to be complete\n",
    "    * Start with smth fun, keep building on it\n",
    "    * Leetcode practice\n",
    "* Look at:\n",
    "    * Vercel\n",
    "    * SvelteKit\n",
    "    * Tailwind CSS\n",
    "    * Hyperplex (Youtube channel)\n",
    "* Treat personal site as portfolio, include lessons learned and past mistakes"
   ]
  },
  {
   "cell_type": "markdown",
   "metadata": {},
   "source": [
    "## Reflection\n",
    "I learned that it is important to decide, first and foremost, whether I want to do pure CS or if I want to do a coding related job. Additionally, I learned about the importance of internship and experience, since they really bolster a resume. Beyond this, I realized that personal projects that I build over time can really help my applications to both college and jobs, and it also grants me valuable skills and experience for me use in school and/or the workplace. The presentees also heavily stressed using Leetcode to prepare for interviews, since if you don't get 100% in an online interview there is no chance for getting a call back for future stages. Most of all, I need to create a personal website that shows my experiences, my interests, and flexes my skills in projects and coding. I also need to remember that showing that I am human is important to emphasize. For the future, I want to explore Vercel, SvelteKit, and the other resources they mentioned and I want to build up my personal page in the format of a portfolio."
   ]
  }
 ],
 "metadata": {
  "language_info": {
   "name": "python"
  },
  "orig_nbformat": 4
 },
 "nbformat": 4,
 "nbformat_minor": 2
}
