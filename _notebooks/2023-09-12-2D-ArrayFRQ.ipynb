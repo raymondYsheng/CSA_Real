{
 "cells": [
  {
   "cell_type": "markdown",
   "metadata": {},
   "source": [
    "---\n",
    "layout: post\n",
    "title: 2D Array FRQ (Question 4)\n",
    "courses: { csp: {week: 4} }\n",
    "type: hacks\n",
    "\n",
    "---\n",
    ">## 2D Array 2022 FRQ\n",
    ">>My answers for the fourth question in the 2022 FRQ"
   ]
  },
  {
   "cell_type": "markdown",
   "metadata": {},
   "source": [
    "> ## Part A"
   ]
  },
  {
   "cell_type": "code",
   "execution_count": null,
   "metadata": {},
   "outputs": [],
   "source": [
    "import java.util.*;\n",
    "\n",
    "public void repopulate() {\n",
    "    Random rand = new Random();\n",
    "    for (int i = 0; i < grid.length; i++)\n",
    "    {\n",
    "        for (int j = 0; j < grid[0].length; j++)\n",
    "        {\n",
    "            while (true)\n",
    "            {\n",
    "                int randNum = rand.nextInt(MAX) + 1;\n",
    "                if (randNum % 10 == 0 && randNum % 100 != 0)\n",
    "                {\n",
    "                    grid[i][j] = randNum;\n",
    "                    break;\n",
    "                }\n",
    "            }\n",
    "        }\n",
    "    }\n",
    "}"
   ]
  },
  {
   "cell_type": "markdown",
   "metadata": {},
   "source": [
    "> ## Part B"
   ]
  },
  {
   "cell_type": "code",
   "execution_count": null,
   "metadata": {},
   "outputs": [],
   "source": [
    "public int countIncreasingCols {\n",
    "    int ans = 0;\n",
    "    loop1: for (int i = 0; i < grid.length; i++)\n",
    "    {\n",
    "        for (int j = 0; j < grid[0].length - 1; j++)\n",
    "        {\n",
    "            if (grid[i][j] <= grid[i][j+1])\n",
    "            {\n",
    "                if (j == grid[0].length - 1)\n",
    "                {\n",
    "                    ans++;\n",
    "                }\n",
    "            }\n",
    "            else\n",
    "            {\n",
    "                continue loop1; \n",
    "            }\n",
    "        }\n",
    "    }\n",
    "    return ans;\n",
    "}"
   ]
  }
 ],
 "metadata": {
  "kernelspec": {
   "display_name": "Java",
   "language": "java",
   "name": "java"
  },
  "language_info": {
   "name": "java"
  },
  "orig_nbformat": 4
 },
 "nbformat": 4,
 "nbformat_minor": 2
}
