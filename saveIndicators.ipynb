{
 "cells": [
  {
   "cell_type": "markdown",
   "metadata": {},
   "source": [
    "## Period 3, Raymond Sheng\n",
    "|                    | Score, Grading Verification | Runtime          | Extras                | Key Indicators: Blog, GitHub File(s) and Key Commits |\n",
    "| ------------------ | --------------------------- | ---------------- | -------------------   | ---------------------------------------------------- |\n",
    "| SASS Hacks         | 1.82/2 Ishi                 |[SASS](https://raymondysheng.github.io/CSA_Repo//2023/12/05/P3M-SASSFundamentals_IPYNB_2_.html) | Used CRUD operations to augment SASS UI | [Commits](https://github.com/raymondYsheng/CSA_Repo/commit/481f4b3f0f404b2ecf95661867ce01bc00de098d)\n",
    "| jQuery Hacks       | 1.8/2 Soham                 |[jQuery](https://raymondysheng.github.io/CSA_Repo//2023/12/07/UX_jQuery_CRUD_lesson_IPYNB_2_.html)||[Commits](https://github.com/raymondYsheng/CSA_Repo/commit/481f4b3f0f404b2ecf95661867ce01bc00de098d)\n",
    "| Thymeleaf Hacks    | 2/2 Team Teaching           |[Lesson](https://nighthawkcoders.github.io/teacher_portfolio//2023/12/12/P3_student_Thymeleaf_IPYNB_2_.html)||[Backend](https://github.com/divorced-coders/grouplesson_backend/commit/4078026d1d2953963fc42f1adeb0484780fee61f)\n",
    "| SQL, Hashmap Hacks | 1.7/2 Shivansh              |[Hashmap](https://raymondysheng.github.io/CSA_Repo//2023/12/18/hashlesson_IPYNB_2_.html)|                       |[Commits](https://github.com/raymondYsheng/CSA_Repo/commit/0bb22e348f247f1a7062ea9c525943f33b9c0335)\n",
    "| JWT Hacks          | 1.86/2 Rachit               |[JWT](https://raymondysheng.github.io/CSA_Repo//2023/12/19/JWTStudent_IPYNB_2_.html)|                       |[Commits](https://github.com/raymondYsheng/CSA_Repo/commit/671985667e48a23a6d11c2d0b4f0aee8c836c25d)\n",
    "| CORS Hacks         | N/A                         | N/A              | N/A                   | N/A\n",
    "| CB Quiz            | 1.9/2 + 36/39               |[CB Quiz](https://raymondysheng.github.io/CSA_Repo//2023/12/18/2015-Practice-Exam_IPYNB_2_.html)                  |                       |[Commits](https://github.com/raymondYsheng/CSA_Repo/commit/7a3070b53f81c0a72dfe325d3b6e7c40ab756d26)\n",
    "| Totals             | Median Score: 1.8/2        | Number Complete: 6 | Extra Effort Count: 1 | Key Commit Count: 8                                  |\n",
    "\n",
    "\n",
    "\n",
    "[Github Analytics](https://github.com/raymondYsheng/CSA_Repo/assets/142441804/17cfd50c-bfa4-4576-a694-9fd058235138)"
   ]
  },
  {
   "cell_type": "markdown",
   "metadata": {},
   "source": []
  }
 ],
 "metadata": {
  "language_info": {
   "name": "python"
  }
 },
 "nbformat": 4,
 "nbformat_minor": 2
}
