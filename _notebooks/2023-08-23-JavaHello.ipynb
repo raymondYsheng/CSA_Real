{
 "cells": [
  {
   "cell_type": "code",
   "execution_count": null,
   "metadata": {},
   "outputs": [
    {
     "ename": "",
     "evalue": "",
     "output_type": "error",
     "traceback": [
      "\u001b[1;31mFailed to start the Kernel. \n",
      "\u001b[1;31mView Jupyter <a href='command:jupyter.viewOutput'>log</a> for further details."
     ]
    }
   ],
   "source": [
    "// Class declaration\n",
    "public class Student {\n",
    "    \n",
    "    // Fields (Instance Variables)\n",
    "    private String name;\n",
    "    private int age;\n",
    "\n",
    "    // Constructor\n",
    "    public Student(String name, int age) {\n",
    "        this.name = name;\n",
    "        this.age = age;\n",
    "    }\n",
    "\n",
    "    // Method 1\n",
    "    public void introduce() {\n",
    "        System.out.println(\"Hello, my name is \" + name + \" and I am \" + age + \" years old.\");\n",
    "    }\n",
    "\n",
    "    // Method 2\n",
    "    public void celebrateBirthday() {\n",
    "        age++;\n",
    "        System.out.println(name + \" is now \" + age + \" years old.\");\n",
    "    }\n",
    "\n",
    "    // Main method (entry point of the program)\n",
    "    public static void main(String[] args) {\n",
    "        // Creating an object of the Student class\n",
    "        Student student1 = new Student(\"Alice\", 20);\n",
    "\n",
    "        // Calling methods on the object\n",
    "        student1.introduce(); // Output: Hello, my name is Alice and I am 20 years old.\n",
    "        student1.celebrateBirthday(); // Output: Alice is now 21 years old.\n",
    "    }\n",
    "}\n"
   ]
  }
 ],
 "metadata": {
  "kernelspec": {
   "display_name": "Java",
   "language": "java",
   "name": "java"
  },
  "language_info": {
   "name": "java"
  },
  "orig_nbformat": 4
 },
 "nbformat": 4,
 "nbformat_minor": 2
}
