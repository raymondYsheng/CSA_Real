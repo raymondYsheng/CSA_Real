{
 "cells": [
  {
   "cell_type": "markdown",
   "metadata": {},
   "source": [
    "---\n",
    "comments: true\n",
    "layout: post\n",
    "title: CalculatorJS\n",
    "---\n",
    "# Create A Project: Calculator\n",
    "The following is a calculator created with JS and HTML."
   ]
  },
  {
   "cell_type": "markdown",
   "metadata": {},
   "source": [
    "\n",
    "<body>\n",
    "  <h1>Calculator</h1>\n",
    "\n",
    "<div class=\"calculator\">\n",
    "<form name = \"form\">  \n",
    "      \n",
    "  <input id = \"calc\" type =\"text\" name = \"answer\"> <br> <br>\n",
    "\n",
    "  <input type = \"button\" value = \"7\" onclick = \"form.answer.value += '7' \">  \n",
    "  <input type = \"button\" value = \"8\" onclick = \"form.answer.value += '8' \">  \n",
    "  <input type = \"button\" value = \"9\" onclick = \"form.answer.value += '9' \">  \n",
    "  <input type = \"button\" value = \"*\" onclick = \"form.answer.value += '*' \">  \n",
    "  <br> <br>  \n",
    "    \n",
    "  <input type = \"button\" value = \"4\" onclick = \"form.answer.value += '4' \">  \n",
    "  <input type = \"button\" value = \"5\" onclick = \"form.answer.value += '5' \">  \n",
    "  <input type = \"button\" value = \"6\" onclick = \"form.answer.value += '6' \">  \n",
    "  <input type = \"button\" value = \"-\" onclick = \"form.answer.value += '-' \">  \n",
    "  <br> <br>  \n",
    "\n",
    "  <input type = \"button\" value = \"1\" onclick = \"form.answer.value += '1' \">  \n",
    "  <input type = \"button\" value = \"2\" onclick = \"form.answer.value += '2' \">  \n",
    "  <input type = \"button\" value = \"3\" onclick = \"form.answer.value += '3' \">  \n",
    "  <input type = \"button\" value = \"+\" onclick = \"form.answer.value += '+' \">  \n",
    "  <br> <br>  \n",
    "    \n",
    "  <input type = \"button\" value = \"/\" onclick = \"form.answer.value += '/' \">  \n",
    "  <input type = \"button\" value = \"0\" onclick = \"form.answer.value += '0' \">  \n",
    "  <input type = \"button\" value = \".\" onclick = \"form.answer.value += '.' \">  \n",
    "\n",
    "  <input type = \"button\" value = \"=\" onclick = \"calculate()\">  \n",
    "  <br><br>\n",
    "  <input type = \"button\" value = \"A/C\" onclick = \"form.answer.value = ' '\" id= \"clear\" >  \n",
    "  <br>   \n",
    "  <script>\n",
    "    function calculate() {\n",
    "      try {\n",
    "        form.answer.value = eval(form.answer.value);\n",
    "      } catch (error) {\n",
    "        form.answer.value = 'Error';\n",
    "      }\n",
    "    }\n",
    "  </script>\n",
    "</form>  "
   ]
  }
 ],
 "metadata": {
  "language_info": {
   "name": "python"
  },
  "orig_nbformat": 4
 },
 "nbformat": 4,
 "nbformat_minor": 2
}
