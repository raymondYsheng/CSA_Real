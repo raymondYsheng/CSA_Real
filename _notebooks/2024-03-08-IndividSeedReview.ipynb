{
 "cells": [
  {
   "cell_type": "markdown",
   "metadata": {},
   "source": [
    "---\n",
    "title: Individual Seed Review\n",
    "toc: true\n",
    "layout: post\n",
    "comments: true\n",
    "courses: { csp: {week: 24} }\n",
    "type: hacks\n",
    "---\n",
    "\n",
    "# Individual Seed Review"
   ]
  },
  {
   "cell_type": "markdown",
   "metadata": {},
   "source": [
    "## 3.0/3.0\n",
    "\n",
    "- [X] Exceptional achievement. 93% or better in last trimester of CompSci.\n",
    "- [X] Exemplar in Team work. Fosters community of learning beyond individual or single friend: [N@TM Blog](https://raymondysheng.github.io/CSA_Repo//2024/02/16/N@TM-Tri-2_IPYNB_2_.html)\n",
    "- [X] Completion of 2.7 items.\n",
    "\n",
    "## 2.7/3.0\n",
    "- [X] Individual Progress. Individual maintains an at-a-glance. AP preparation progress, Key commits, GitHub Analytics, etc. They use this blog to start each individual review.\n",
    "![image](https://github.com/raymondYsheng/CSA_Repo/assets/142441804/058c8753-80a7-413c-a04a-e64f431387a1)\n",
    "- [X] GitHub Pages Blog. Student makes quality effort to record histories and solicit comments on AP, Project work. [Timebox](https://raymondysheng.github.io/CSA_Repo/csp)\n",
    "- [X] AP work. All AP work is understood, reviewed, and is determined by Teacher to be your own work. Student should be proactive in demonstrating understanding.\n",
    "[FRQs](https://raymondysheng.github.io/CSA_Repo//2024/02/09/Collegeboard-FRQ_IPYNB_2_.html)\n",
    "[2015 MCQ](https://raymondysheng.github.io/CSA_Repo//2023/12/18/2015-Practice-Exam_IPYNB_2_.html)\n",
    "\n",
    "\n",
    "I also followed along with Collegeboard lesson notes but there are too many to link here.\n",
    "\n",
    "## Tri 3 Plans\n",
    "One of our team’s goals is to improve upon the project based on the advice from Night at the Museum. This includes adding more features and developing the ones that we already have. A specific goal to better implement the image recognition because people said it didn't seem like it belonged in our project. Since we have thirteen people, effective collaboration is essential to being productive. Some steps that we have taken to achieve this are creating a Discord server to have fast communication and assigning everyone to the correct roles, especially given that Slack cannot have DM's of over 9 people.\n",
    "\n",
    "We are also going to continue to have a standup meeting once a week to discuss what we are working on and how we should move forward. In the most recent meeting, we decided on our triangles and what each triangle’s focus will be. My triangle (Drew, Haoxuan, AJ, me) will be working on the functional, user experience aspects such as Sign-In (the JWT is still not working properly).\n",
    "\n",
    "I personally want to work more on my frontend skills, having spent most of my time working on the backend. Our period especially has a disproportionate amount of backenders compared to frontenders, so I may have to pick up any slakc left there.\n",
    "\n",
    "I also helped to try to figure out a way to print the JWT token to console for some reason it wasn't "
   ]
  },
  {
   "cell_type": "markdown",
   "metadata": {},
   "source": []
  }
 ],
 "metadata": {
  "language_info": {
   "name": "python"
  }
 },
 "nbformat": 4,
 "nbformat_minor": 2
}
