{
 "cells": [
  {
   "cell_type": "markdown",
   "metadata": {},
   "source": [
    "---\n",
    "title: Collegeboard FRQ Practice\n",
    "toc: true\n",
    "layout: post\n",
    "courses: { csp: {week: 22} }\n",
    "type: hacks\n",
    "---"
   ]
  },
  {
   "cell_type": "markdown",
   "metadata": {},
   "source": [
    "## Collegeboard FRQ Practice\n",
    "\n",
    "### Question 1:\n",
    "(a) Write a static method arraySum that calculates and returns the sum of the entries in a specified one-dimensional array. The following example shows an array arr1 and the value returned by a call to arraySum.\n",
    "\n",
    "(b) Write a static method rowSums that calculates the sums of each of the rows in a given two-dimensional array and returns these sums in a one-dimensional array. The method has one parameter, a two-dimensional array arr2D of int values. The array is in row-major order: arr2D [r] [c] is the entry at row r and column c. The method returns a one-dimensional array with one entry for each row of arr2D such that each entry is the sum of the corresponding row in arr2D. As a reminder, each row of a two-dimensional array is a one-dimensional array.\n",
    "\n",
    "(c) A two-dimensional array is diverse if no two of its rows have entries that sum to the same value. In the following examples, the array mat1 is diverse because each row sum is different, but the array mat2 is not diverse because the first and last rows have the same sum.\n",
    "Write a static method isDiverse that determines whether or not a given two-dimensional array is diverse. The method has one parameter: a two-dimensional array arr2D of int values. The method should return true if all the row sums in the given array are unique; otherwise, it should return false. In the arrays shown above, the call isDiverse (mat1) returns true and the call isDiverse(mat2) returns false."
   ]
  },
  {
   "cell_type": "markdown",
   "metadata": {},
   "source": [
    "**Key Algorithm**: 2D Arrays + Arrays"
   ]
  },
  {
   "cell_type": "code",
   "execution_count": 26,
   "metadata": {
    "vscode": {
     "languageId": "java"
    }
   },
   "outputs": [
    {
     "name": "stdout",
     "output_type": "stream",
     "text": [
      "16\n",
      "14 35 36 14 \n",
      "false\n"
     ]
    }
   ],
   "source": [
    "public class Main {\n",
    "    public static int arraySum (int[] arr)\n",
    "    {\n",
    "        int sum = 0;\n",
    "        for (int i = 0; i < arr.length; i++)\n",
    "        {\n",
    "            sum += arr[i];\n",
    "        }\n",
    "        return sum;\n",
    "    }\n",
    "\n",
    "    public static int[] rowSums(int[][] arr2D) {\n",
    "        int[] sums = new int[arr2D.length];\n",
    "        for (int i = 0; i < arr2D.length; i++) {\n",
    "            int sum = 0;\n",
    "            for (int j = 0; j < arr2D[i].length; j++) {\n",
    "                sum += arr2D[i][j];\n",
    "            }\n",
    "            sums[i] = sum;\n",
    "        }\n",
    "        return sums;\n",
    "    }\n",
    "    \n",
    "    \n",
    "    public static boolean isDiverse(int[][] arr2D)\n",
    "    {\n",
    "        int[] sums = rowSums(arr2D);\n",
    "        HashSet<Integer> set = new HashSet<>();\n",
    "        for (int num : sums) {\n",
    "            if (set.contains(num)) {\n",
    "                return false;\n",
    "            }\n",
    "            set.add(num);\n",
    "        }\n",
    "\n",
    "        return true;\n",
    "    }\n",
    "\n",
    "    public static void main(String[] args)\n",
    "    {\n",
    "        int[] arr2 = {1, 3, 2, 7, 3};\n",
    "        System.out.println(arraySum(arr2));\n",
    "        int[][] arr1 = {\n",
    "            {1, 1, 5, 3, 4},\n",
    "            {12, 7, 6, 1, 9},\n",
    "            {8, 11, 10, 2, 5},\n",
    "            {3, 2, 3, 0, 6}\n",
    "        };        \n",
    "        int[] sums = rowSums(arr1);\n",
    "        for (int i = 0; i < sums.length; i++)\n",
    "        {\n",
    "            System.out.print(sums[i] + \" \");\n",
    "        }\n",
    "        System.out.println();\n",
    "        System.out.println(isDiverse(arr1));\n",
    "    }\n",
    "}\n",
    "\n",
    "Main.main(null);"
   ]
  },
  {
   "cell_type": "markdown",
   "metadata": {},
   "source": [
    "### Question 2:\n",
    "Consider a guessing game in which a player tries to guess a hidden word. The hidden word contains only capital letters and has a length known to the player. A guess contains only capital letters and has the same length as the hidden word.\n",
    "\n",
    "After a guess is made, the player is given a hint that is based on a comparison between the hidden word and the guess. Each position in the hint contains a character that corresponds to the letter in the same position in the guess. The following rules determine the characters that appear in the hint. <br>\n",
    "<img src=\"https://github.com/raymondYsheng/CSA_Repo/assets/142441804/c9a3871e-7249-482a-a831-8ae982652ea5\">\n",
    "The HiddenWord class will be used to represent the hidden word in the game. The hidden word is passed to the constructor. The class contains a method, getHint, that takes a guess and produces a hint.\n",
    "\n",
    "For example, suppose the variable puzzle is declared as follows.\n",
    "\n",
    "HiddenWord puzzle = new HiddenWord(\"HARPS\");\n",
    "\n",
    "The following table shows several guesses and the hints that would be produced. <br>\n",
    "<img src=\"https://github.com/raymondYsheng/CSA_Repo/assets/142441804/2914c8e2-ee54-4a5a-9a38-f9e9473e48e0\">\n",
    "\n",
    "Write the complete HiddenWord class, including any necessary instance variables, its constructor, and the method, getHint, described above. You may assume that the length of the guess is the same as the length of the hidden word.\n",
    "\n",
    "**Key Algorithm: Classes and Array/ArrayList**"
   ]
  },
  {
   "cell_type": "code",
   "execution_count": 1,
   "metadata": {
    "vscode": {
     "languageId": "java"
    }
   },
   "outputs": [
    {
     "name": "stdout",
     "output_type": "stream",
     "text": [
      "+A+++\n",
      "H****\n",
      "H*++*\n",
      "HAR*S\n",
      "HARPS\n"
     ]
    }
   ],
   "source": [
    "public class HiddenWord {\n",
    "    private String word;\n",
    "    public HiddenWord (String word)\n",
    "    {\n",
    "        this.word = word;\n",
    "    }\n",
    "    public String getHint (String guess)\n",
    "    {\n",
    "        String result =\"\";\n",
    "        for (int i = 0; i < guess.length(); i++)\n",
    "        {\n",
    "            if (guess.charAt(i) == word.charAt(i))\n",
    "            {\n",
    "                result += guess.charAt(i);\n",
    "            }\n",
    "            else if (word.indexOf(guess.charAt(i)) != -1)\n",
    "            {\n",
    "                result += \"+\";\n",
    "            }\n",
    "            else\n",
    "            {\n",
    "                result += \"*\";\n",
    "            }\n",
    "        }\n",
    "        return result;\n",
    "    }\n",
    "    public static void main(String[] args)\n",
    "    {\n",
    "        HiddenWord puzzle = new HiddenWord(\"HARPS\");\n",
    "        System.out.println(puzzle.getHint(\"AAAAA\"));\n",
    "        System.out.println(puzzle.getHint(\"HELLO\"));\n",
    "        System.out.println(puzzle.getHint(\"HEART\"));\n",
    "        System.out.println(puzzle.getHint(\"HARMS\"));\n",
    "        System.out.println(puzzle.getHint(\"HARPS\"));\n",
    "    }\n",
    "}\n",
    "\n",
    "HiddenWord.main(null);"
   ]
  },
  {
   "cell_type": "markdown",
   "metadata": {},
   "source": [
    "## Question 3:\n",
    "A two-dimensional array of integers in which most elements are zero is called a sparse array. Because most elements have a value of zero, memory can be saved by storing only the non-zero values along with their row and column indexes. The following complete SparseArrayEntry class is used to represent non-zero elements in a sparse array. A SparseArrayEntry object cannot be modified after it has been constructed.\n",
    "<br>\n",
    "<img src=\"https://github.com/raymondYsheng/CSA_Repo/assets/142441804/c93f2ce0-be82-4571-a996-6273a59e6725\">\n",
    "<br>\n",
    "The SparseArray class represents a sparse array. It contains a list of SparseArrayEntry objects, each of which represents one of the non-zero elements in the array. The entries representing the non-zero elements are stored in the list in no particular order. Each non-zero element is represented by exactly one entry in the list.\n",
    "<br>\n",
    "<img src=\"https://github.com/raymondYsheng/CSA_Repo/assets/142441804/e7ef3462-17e4-4699-99c4-448b71b76cc3\">\n",
    "<br>\n",
    "The following table shows an example of a two-dimensional sparse array. Empty cells in the table indicate zero values.\n",
    "<br>\n",
    "<img src=\"https://github.com/raymondYsheng/CSA_Repo/assets/142441804/84e5f745-e51d-48cf-88aa-ab64f0bd4345\">\n",
    "<br>\n",
    "The sample array can be represented by a SparseArray object, sparse, with the following instance variable values. The items in entries are in no particular order; one possible ordering is shown below.\n",
    "<br>\n",
    "<img src=\"https://github.com/raymondYsheng/CSA_Repo/assets/142441804/315d94f5-9e2b-4709-a6df-bb70a94f736d\">\n",
    "<br>\n",
    "(a) Write the SparseArray method getValueAt. The method returns the value of the sparse array element at a given row and column in the sparse array. If the list entries contains an entry with the specified row and column, the value associated with the entry is returned. If there is no entry in entries corresponding to the specified row and column, 0 is returned.\n",
    "In the example above, the call sparse.getValueAt(3, 1) would return -9, and sparse.getValueAt(3, 3) would return 0.\n",
    "Complete method getValueAt below.\n",
    "\n",
    "(b) Write the SparseArray method removeColumn. After removing a specified column from a sparsearray:\n",
    "All entries in the list entries with column indexes matching col are removed from the list.\n",
    "All entries in the list entries with column indexes greater than col are replaced by entries with column indexes that are decremented by one (moved one column to the left).\n",
    "The number of columns in the sparse array is adjusted to reflect the column removed.\n",
    "The sample object sparse from the beginning of the question is repeated for your convenience.\n",
    "<br>\n",
    "<img src=\"https://github.com/raymondYsheng/CSA_Repo/assets/142441804/6db46829-edea-4fcd-abbc-42a09dce434c\">\n",
    "<br>\n",
    "When sparse has the state shown above, the call sparse.removeColumn(1) could result insparse having the following values in its instance variables (since entries is in no particular order, it would be equally valid to reverse the order of its two items). The shaded areas below show the changes.\n",
    "\n",
    "Complete removeColumn method.\n"
   ]
  },
  {
   "cell_type": "markdown",
   "metadata": {},
   "source": [
    "**Key Algorithm: Method and Control Structures**"
   ]
  },
  {
   "cell_type": "code",
   "execution_count": 30,
   "metadata": {
    "vscode": {
     "languageId": "java"
    }
   },
   "outputs": [
    {
     "name": "stdout",
     "output_type": "stream",
     "text": [
      "Before Remove: \n"
     ]
    },
    {
     "name": "stdout",
     "output_type": "stream",
     "text": [
      "Row: 1, Column: 1, Value: 5\n",
      "Row: 1, Column: 4, Value: 4\n",
      "Row: 2, Column: 0, Value: 1\n",
      "Row: 3, Column: 1, Value: -9\n",
      "After Remove: \n",
      "Row: 1, Column: 3, Value: 4\n",
      "Row: 2, Column: 0, Value: 1\n"
     ]
    }
   ],
   "source": [
    "public class SparseArrayEntry {\n",
    "    private int row;\n",
    "    private int col;\n",
    "    private int value; \n",
    "    public SparseArrayEntry(int r, int c, int v) {\n",
    "        row = r;\n",
    "        col = c;\n",
    "        value = v; \n",
    "    }\n",
    "    public int getRow() {\n",
    "        return row;\n",
    "    } \n",
    "    public int getCol () {\n",
    "        return col;\n",
    "    } \n",
    "    public int getValue() {\n",
    "        return value;\n",
    "    }; \n",
    "}\n",
    "public class SparseArray {\n",
    "    private int numRows;\n",
    "    private int numCols; \n",
    "    private List<SparseArrayEntry> entries; \n",
    "    public SparseArray() {\n",
    "        entries = new ArrayList<SparseArrayEntry>(); \n",
    "    }\n",
    "    public void add(SparseArrayEntry entry) {\n",
    "        entries.add(entry);\n",
    "    }\n",
    "    public int getNumRows() {\n",
    "        return numRows;\n",
    "    }\n",
    "    public int getNumCols() {\n",
    "        return numCols;\n",
    "    }\n",
    "    public int getValueAt(int row, int col) //Part A\n",
    "    {\n",
    "        for (SparseArrayEntry i: entries)\n",
    "        {\n",
    "            if (i.getRow() == row && i.getCol() == col)\n",
    "            {\n",
    "                return i.getValue();\n",
    "            }\n",
    "        }\n",
    "        return 0;\n",
    "    }\n",
    "    public void removeColumn(int col) {\n",
    "        int i = 0;\n",
    "        while (i < entries.size())\n",
    "        {\n",
    "            SparseArrayEntry entry = entries.get(i);\n",
    "            if (entry.getCol() == col)\n",
    "            {\n",
    "                entries.remove(i);\n",
    "            }\n",
    "            else if (entry.getCol() > col)\n",
    "            {\n",
    "                entries.set(i, new SparseArrayEntry(entry.getRow(), entry.getCol() - 1, entry.getValue()));\n",
    "                i++;\n",
    "            }\n",
    "            else\n",
    "            {\n",
    "                i++;\n",
    "            }\n",
    "        }\n",
    "        numCols--;\n",
    "    }\n",
    "    public void printEntries() {\n",
    "        for (SparseArrayEntry entry : entries) {\n",
    "            System.out.println(\"Row: \" + entry.getRow() + \", Column: \" + entry.getCol() + \", Value: \" + entry.getValue());\n",
    "        }\n",
    "    }     \n",
    "}\n",
    "public class Main {\n",
    "    public static void main(String[] args)\n",
    "    {\n",
    "        SparseArray sparseArray = new SparseArray();\n",
    "        sparseArray.add(new SparseArrayEntry(1, 1, 5));\n",
    "        sparseArray.add(new SparseArrayEntry(1, 4, 4));\n",
    "        sparseArray.add(new SparseArrayEntry(2, 0, 1));\n",
    "        sparseArray.add(new SparseArrayEntry(3, 1, -9));\n",
    "        System.out.println(\"Before Remove: \");\n",
    "        sparseArray.printEntries();\n",
    "\n",
    "        sparseArray.removeColumn(1); // Remove column 1\n",
    "        System.out.println(\"After Remove: \");\n",
    "        sparseArray.printEntries();\n",
    "    }\n",
    "}\n",
    "Main.main(null);"
   ]
  },
  {
   "cell_type": "markdown",
   "metadata": {},
   "source": []
  }
 ],
 "metadata": {
  "kernelspec": {
   "display_name": "Java",
   "language": "java",
   "name": "java"
  },
  "language_info": {
   "codemirror_mode": "java",
   "file_extension": ".jshell",
   "mimetype": "text/x-java-source",
   "name": "Java",
   "pygments_lexer": "java",
   "version": "18.0.2-ea+9-Ubuntu-222.04"
  }
 },
 "nbformat": 4,
 "nbformat_minor": 2
}
