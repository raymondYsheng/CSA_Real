{
 "cells": [
  {
   "cell_type": "markdown",
   "metadata": {},
   "source": [
    "---\n",
    "layout: post\n",
    "title: U1 Primitives\n",
    "courses: { csp: {week: 4} }\n",
    "type: hacks\n",
    "\n",
    "---\n",
    "## U1 Primitives\n",
    "Examples of basic usage of primitive data types in Java."
   ]
  },
  {
   "cell_type": "code",
   "execution_count": 3,
   "metadata": {
    "vscode": {
     "languageId": "java"
    }
   },
   "outputs": [
    {
     "name": "stdout",
     "output_type": "stream",
     "text": [
      "Enter an int: \n",
      "1\n",
      "Using the int value by doubling it: 2\n",
      "Enter a double: \n",
      "2.0\n",
      "Using the double value by doubling it: 4.0\n",
      "Enter a boolean: \n",
      "true\n",
      "Enter a char: \n",
      "Not a char, char is in the form: a (only one character long)\n",
      "Enter a char: \n",
      "Not a char, char is in the form: a (only one character long)\n",
      "Enter a char: \n",
      "w\n",
      "Enter a String: \n",
      "w\n",
      "Output the last character of the String: w\n"
     ]
    }
   ],
   "source": [
    "import java.util.*;\n",
    "public class TypeTest {\n",
    "    public static void main(String[] args) {\n",
    "        Scanner scan = new Scanner(System.in);\n",
    "        \n",
    "        System.out.println(\"Enter an int: \");\n",
    "        try {\n",
    "            int int_val = scan.nextInt();\n",
    "            System.out.println(int_val);\n",
    "            System.out.println(\"Using the int value by doubling it: \" + int_val * 2); //I can multiply the int value by an int, I cannot multiply a String or it would throw a type conflict\n",
    "        }\n",
    "        catch (Exception e) {\n",
    "            System.out.println(\"Not an int, int is in the form: 194\");\n",
    "        }\n",
    "\n",
    "        \n",
    "        System.out.println(\"Enter a double: \");\n",
    "        try {\n",
    "            double double_val = scan.nextDouble();\n",
    "            System.out.println(double_val);\n",
    "            System.out.println(\"Using the double value by doubling it: \" + double_val * 2.0); //I can multiply the double value by both a double or an int, I cannot multiply a String or it would throw a type conflict\n",
    "        }\n",
    "        catch (Exception e) {\n",
    "            System.out.println(\"Not a double, double is in the form: 1.94\");\n",
    "        }\n",
    "\n",
    "        \n",
    "        System.out.println(\"Enter a boolean: \");\n",
    "        try {\n",
    "            boolean bool_val = scan.nextBoolean();\n",
    "            System.out.println(bool_val);\n",
    "            if (bool_val) //\n",
    "            {\n",
    "                System.out.println(\"It worked\");\n",
    "            }\n",
    "            else\n",
    "            {\n",
    "                System.out.println(\"It didn't work\");\n",
    "            }\n",
    "        }\n",
    "        catch (Exception e) {\n",
    "            System.out.println(\"Not a boolean, boolean is in the form: true/false\");\n",
    "        }\n",
    "\n",
    "        while (true)\n",
    "        {\n",
    "            System.out.println(\"Enter a char: \");\n",
    "            String char_val = scan.next();\n",
    "            if (char_val.length() == 1)\n",
    "            {\n",
    "                System.out.println(char_val);\n",
    "                break;\n",
    "            }    \n",
    "            else\n",
    "            {\n",
    "                System.out.println(\"Not a char, char is in the form: a (only one character long)\");\n",
    "            }\n",
    "        }\n",
    "\n",
    "        System.out.println(\"Enter a String: \");\n",
    "        try {\n",
    "            String str_val = scan.next();\n",
    "            System.out.println(str_val);\n",
    "            System.out.println(\"Output the last character of the String: \" + str_val.charAt(str_val.length() - 1));//String is an array of characters so you can get the value of an element in the String\n",
    "        }\n",
    "        catch (Exception e)\n",
    "        {\n",
    "            System.out.println(\"How did you mess this up?\");\n",
    "        }\n",
    "        scan.close();\n",
    "    }\n",
    "}\n",
    "\n",
    "TypeTest.main(null);"
   ]
  },
  {
   "cell_type": "markdown",
   "metadata": {},
   "source": [
    "## Usage of Primitives\n",
    "Applying primitive data types "
   ]
  }
 ],
 "metadata": {
  "kernelspec": {
   "display_name": "Java",
   "language": "java",
   "name": "java"
  },
  "language_info": {
   "codemirror_mode": "java",
   "file_extension": ".jshell",
   "mimetype": "text/x-java-source",
   "name": "Java",
   "pygments_lexer": "java",
   "version": "18.0.2-ea+9-Ubuntu-222.04"
  },
  "orig_nbformat": 4
 },
 "nbformat": 4,
 "nbformat_minor": 2
}
